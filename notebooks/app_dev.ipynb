{
 "cells": [
  {
   "cell_type": "code",
   "execution_count": 69,
   "metadata": {},
   "outputs": [],
   "source": [
    "import streamlit as st\n",
    "import pandas as pd\n",
    "import pandas as pd\n",
    "import numpy as np\n",
    "import requests\n",
    "from matplotlib import pyplot as plt\n",
    "import datetime as dt\n",
    "import altair as alt\n",
    "\n",
    "st.write(\"\"\"\n",
    "# Simple Stock Price App\n",
    "Shown are the stock **closing price** and ***volume*** of Google!\n",
    "\"\"\")\n",
    "\n",
    "#define the ticker symbol\n",
    "temps = pd.read_csv('../data/temps.csv',infer_datetime_format=True,index_col=0)\n",
    "\n",
    "#get data on this ticker\n",
    "data = temps[temps['location'] == 'Melbourne']\n",
    "#get the historical prices for this ticker\n",
    "\n",
    "st.write(\"\"\"\n",
    "## Closing Price\n",
    "\"\"\")\n",
    "st.line_chart(data)\n",
    "st.write(\"\"\"\n",
    "## Volume Price\n",
    "\"\"\")"
   ]
  }
 ],
 "metadata": {
  "kernelspec": {
   "display_name": "Python 3",
   "language": "python",
   "name": "python3"
  },
  "language_info": {
   "codemirror_mode": {
    "name": "ipython",
    "version": 3
   },
   "file_extension": ".py",
   "mimetype": "text/x-python",
   "name": "python",
   "nbconvert_exporter": "python",
   "pygments_lexer": "ipython3",
   "version": "3.8.5"
  }
 },
 "nbformat": 4,
 "nbformat_minor": 4
}
