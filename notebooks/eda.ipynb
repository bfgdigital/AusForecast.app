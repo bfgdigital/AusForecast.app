{
 "cells": [
  {
   "cell_type": "markdown",
   "metadata": {},
   "source": [
    "<a id='section_id1'></a>\n",
    "# Weather Data Exploratory Data Analysis\n",
    "\n",
    "[Click Here for Report Notebook](report.ipynb#section_id1)"
   ]
  },
  {
   "cell_type": "code",
   "execution_count": 1,
   "metadata": {},
   "outputs": [],
   "source": [
    "import pandas as pd\n",
    "import numpy as np\n",
    "import requests\n",
    "from matplotlib import pyplot as plt"
   ]
  },
  {
   "cell_type": "code",
   "execution_count": 2,
   "metadata": {},
   "outputs": [],
   "source": [
    "rainfall = pd.read_csv('../data/rainfall.csv',infer_datetime_format=True,index_col=0)\n",
    "solar_exposure = pd.read_csv('../data/solar_exposure.csv',infer_datetime_format=True,index_col=0)\n",
    "max_temps = pd.read_csv('../data/max_temps.csv',infer_datetime_format=True,index_col=0)"
   ]
  },
  {
   "cell_type": "markdown",
   "metadata": {},
   "source": [
    "## Rainfall EDA"
   ]
  },
  {
   "cell_type": "markdown",
   "metadata": {},
   "source": [
    "Lowercase column names for simplicity"
   ]
  },
  {
   "cell_type": "code",
   "execution_count": 3,
   "metadata": {},
   "outputs": [
    {
     "data": {
      "text/plain": [
       "['bureau of meteorology station number',\n",
       " 'year',\n",
       " 'month',\n",
       " 'day',\n",
       " 'rainfall amount (millimetres)',\n",
       " 'period over which rainfall was measured (days)',\n",
       " 'quality']"
      ]
     },
     "execution_count": 3,
     "metadata": {},
     "output_type": "execute_result"
    }
   ],
   "source": [
    "rainfall.columns = map(str.lower, rainfall.columns)\n",
    "list(rainfall.columns)"
   ]
  },
  {
   "cell_type": "markdown",
   "metadata": {},
   "source": [
    "Remove columns with a single value"
   ]
  },
  {
   "cell_type": "code",
   "execution_count": 4,
   "metadata": {},
   "outputs": [
    {
     "name": "stdout",
     "output_type": "stream",
     "text": [
      "bureau of meteorology station number has 1 unique values\n",
      "year has 8 unique values\n",
      "month has 12 unique values\n",
      "day has 31 unique values\n",
      "rainfall amount (millimetres) has 112 unique values\n",
      "period over which rainfall was measured (days) has 1 unique values\n",
      "quality has 2 unique values\n"
     ]
    },
    {
     "data": {
      "text/html": [
       "<div>\n",
       "<style scoped>\n",
       "    .dataframe tbody tr th:only-of-type {\n",
       "        vertical-align: middle;\n",
       "    }\n",
       "\n",
       "    .dataframe tbody tr th {\n",
       "        vertical-align: top;\n",
       "    }\n",
       "\n",
       "    .dataframe thead th {\n",
       "        text-align: right;\n",
       "    }\n",
       "</style>\n",
       "<table border=\"1\" class=\"dataframe\">\n",
       "  <thead>\n",
       "    <tr style=\"text-align: right;\">\n",
       "      <th></th>\n",
       "      <th>year</th>\n",
       "      <th>month</th>\n",
       "      <th>day</th>\n",
       "      <th>rainfall amount (millimetres)</th>\n",
       "      <th>quality</th>\n",
       "    </tr>\n",
       "    <tr>\n",
       "      <th>Product code</th>\n",
       "      <th></th>\n",
       "      <th></th>\n",
       "      <th></th>\n",
       "      <th></th>\n",
       "      <th></th>\n",
       "    </tr>\n",
       "  </thead>\n",
       "  <tbody>\n",
       "    <tr>\n",
       "      <th>IDCJAC0009</th>\n",
       "      <td>2013</td>\n",
       "      <td>1</td>\n",
       "      <td>1</td>\n",
       "      <td>NaN</td>\n",
       "      <td>NaN</td>\n",
       "    </tr>\n",
       "    <tr>\n",
       "      <th>IDCJAC0009</th>\n",
       "      <td>2013</td>\n",
       "      <td>1</td>\n",
       "      <td>2</td>\n",
       "      <td>NaN</td>\n",
       "      <td>NaN</td>\n",
       "    </tr>\n",
       "  </tbody>\n",
       "</table>\n",
       "</div>"
      ],
      "text/plain": [
       "              year  month  day  rainfall amount (millimetres) quality\n",
       "Product code                                                         \n",
       "IDCJAC0009    2013      1    1                            NaN     NaN\n",
       "IDCJAC0009    2013      1    2                            NaN     NaN"
      ]
     },
     "execution_count": 4,
     "metadata": {},
     "output_type": "execute_result"
    }
   ],
   "source": [
    "for column in rainfall.columns:\n",
    "    print(f'{column} has {rainfall[column].nunique()} unique values')\n",
    "rainfall.drop(['bureau of meteorology station number','period over which rainfall was measured (days)'],axis=1,inplace=True)\n",
    "rainfall.head(2)"
   ]
  },
  {
   "cell_type": "markdown",
   "metadata": {},
   "source": [
    "Seperate dates are useful but also cumbersome for filtering. Merging dates into 1 column."
   ]
  },
  {
   "cell_type": "code",
   "execution_count": 5,
   "metadata": {},
   "outputs": [
    {
     "data": {
      "text/html": [
       "<div>\n",
       "<style scoped>\n",
       "    .dataframe tbody tr th:only-of-type {\n",
       "        vertical-align: middle;\n",
       "    }\n",
       "\n",
       "    .dataframe tbody tr th {\n",
       "        vertical-align: top;\n",
       "    }\n",
       "\n",
       "    .dataframe thead th {\n",
       "        text-align: right;\n",
       "    }\n",
       "</style>\n",
       "<table border=\"1\" class=\"dataframe\">\n",
       "  <thead>\n",
       "    <tr style=\"text-align: right;\">\n",
       "      <th></th>\n",
       "      <th>year</th>\n",
       "      <th>month</th>\n",
       "      <th>day</th>\n",
       "      <th>rainfall amount (millimetres)</th>\n",
       "      <th>quality</th>\n",
       "      <th>date</th>\n",
       "    </tr>\n",
       "    <tr>\n",
       "      <th>date</th>\n",
       "      <th></th>\n",
       "      <th></th>\n",
       "      <th></th>\n",
       "      <th></th>\n",
       "      <th></th>\n",
       "      <th></th>\n",
       "    </tr>\n",
       "  </thead>\n",
       "  <tbody>\n",
       "    <tr>\n",
       "      <th>2013-01-01</th>\n",
       "      <td>2013</td>\n",
       "      <td>1</td>\n",
       "      <td>1</td>\n",
       "      <td>NaN</td>\n",
       "      <td>NaN</td>\n",
       "      <td>2013-01-01</td>\n",
       "    </tr>\n",
       "    <tr>\n",
       "      <th>2013-01-02</th>\n",
       "      <td>2013</td>\n",
       "      <td>1</td>\n",
       "      <td>2</td>\n",
       "      <td>NaN</td>\n",
       "      <td>NaN</td>\n",
       "      <td>2013-01-02</td>\n",
       "    </tr>\n",
       "  </tbody>\n",
       "</table>\n",
       "</div>"
      ],
      "text/plain": [
       "            year  month  day  rainfall amount (millimetres) quality       date\n",
       "date                                                                          \n",
       "2013-01-01  2013      1    1                            NaN     NaN 2013-01-01\n",
       "2013-01-02  2013      1    2                            NaN     NaN 2013-01-02"
      ]
     },
     "execution_count": 5,
     "metadata": {},
     "output_type": "execute_result"
    }
   ],
   "source": [
    "rainfall['date']=pd.to_datetime(rainfall[['year','month','day']])\n",
    "rainfall.index= rainfall['date'] # set index as well.\n",
    "rainfall.head(2)"
   ]
  },
  {
   "cell_type": "markdown",
   "metadata": {},
   "source": [
    "Drop Nan Values"
   ]
  },
  {
   "cell_type": "code",
   "execution_count": 6,
   "metadata": {},
   "outputs": [
    {
     "name": "stdout",
     "output_type": "stream",
     "text": [
      "<class 'pandas.core.frame.DataFrame'>\n",
      "DatetimeIndex: 2834 entries, 2013-01-01 to 2020-10-04\n",
      "Data columns (total 6 columns):\n",
      " #   Column                         Non-Null Count  Dtype         \n",
      "---  ------                         --------------  -----         \n",
      " 0   year                           2834 non-null   int64         \n",
      " 1   month                          2834 non-null   int64         \n",
      " 2   day                            2834 non-null   int64         \n",
      " 3   rainfall amount (millimetres)  2679 non-null   float64       \n",
      " 4   quality                        2679 non-null   object        \n",
      " 5   date                           2834 non-null   datetime64[ns]\n",
      "dtypes: datetime64[ns](1), float64(1), int64(3), object(1)\n",
      "memory usage: 155.0+ KB\n",
      "<class 'pandas.core.frame.DataFrame'>\n",
      "DatetimeIndex: 2679 entries, 2013-06-02 to 2020-10-04\n",
      "Data columns (total 6 columns):\n",
      " #   Column                         Non-Null Count  Dtype         \n",
      "---  ------                         --------------  -----         \n",
      " 0   year                           2679 non-null   int64         \n",
      " 1   month                          2679 non-null   int64         \n",
      " 2   day                            2679 non-null   int64         \n",
      " 3   rainfall amount (millimetres)  2679 non-null   float64       \n",
      " 4   quality                        2679 non-null   object        \n",
      " 5   date                           2679 non-null   datetime64[ns]\n",
      "dtypes: datetime64[ns](1), float64(1), int64(3), object(1)\n",
      "memory usage: 146.5+ KB\n"
     ]
    }
   ],
   "source": [
    "rainfall.info()\n",
    "rainfall.dropna(axis=0, how='any', thresh=None, inplace=True)\n",
    "rainfall.info()"
   ]
  },
  {
   "cell_type": "markdown",
   "metadata": {},
   "source": [
    "## Max Temp EDA"
   ]
  },
  {
   "cell_type": "markdown",
   "metadata": {},
   "source": [
    "Lowercase column names for simplicity"
   ]
  },
  {
   "cell_type": "code",
   "execution_count": 7,
   "metadata": {},
   "outputs": [
    {
     "data": {
      "text/plain": [
       "['bureau of meteorology station number',\n",
       " 'year',\n",
       " 'month',\n",
       " 'day',\n",
       " 'maximum temperature (degree c)',\n",
       " 'days of accumulation of maximum temperature',\n",
       " 'quality']"
      ]
     },
     "execution_count": 7,
     "metadata": {},
     "output_type": "execute_result"
    }
   ],
   "source": [
    "max_temps.columns = map(str.lower, max_temps.columns)\n",
    "list(max_temps.columns)"
   ]
  },
  {
   "cell_type": "markdown",
   "metadata": {},
   "source": [
    "Remove columns with a single value"
   ]
  },
  {
   "cell_type": "code",
   "execution_count": 8,
   "metadata": {},
   "outputs": [
    {
     "name": "stdout",
     "output_type": "stream",
     "text": [
      "bureau of meteorology station number has 1 unique values\n",
      "year has 8 unique values\n",
      "month has 12 unique values\n",
      "day has 31 unique values\n",
      "maximum temperature (degree c) has 294 unique values\n",
      "days of accumulation of maximum temperature has 1 unique values\n",
      "quality has 2 unique values\n"
     ]
    },
    {
     "data": {
      "text/html": [
       "<div>\n",
       "<style scoped>\n",
       "    .dataframe tbody tr th:only-of-type {\n",
       "        vertical-align: middle;\n",
       "    }\n",
       "\n",
       "    .dataframe tbody tr th {\n",
       "        vertical-align: top;\n",
       "    }\n",
       "\n",
       "    .dataframe thead th {\n",
       "        text-align: right;\n",
       "    }\n",
       "</style>\n",
       "<table border=\"1\" class=\"dataframe\">\n",
       "  <thead>\n",
       "    <tr style=\"text-align: right;\">\n",
       "      <th></th>\n",
       "      <th>year</th>\n",
       "      <th>month</th>\n",
       "      <th>day</th>\n",
       "      <th>maximum temperature (degree c)</th>\n",
       "      <th>quality</th>\n",
       "    </tr>\n",
       "    <tr>\n",
       "      <th>Product code</th>\n",
       "      <th></th>\n",
       "      <th></th>\n",
       "      <th></th>\n",
       "      <th></th>\n",
       "      <th></th>\n",
       "    </tr>\n",
       "  </thead>\n",
       "  <tbody>\n",
       "    <tr>\n",
       "      <th>IDCJAC0010</th>\n",
       "      <td>2013</td>\n",
       "      <td>1</td>\n",
       "      <td>1</td>\n",
       "      <td>NaN</td>\n",
       "      <td>NaN</td>\n",
       "    </tr>\n",
       "    <tr>\n",
       "      <th>IDCJAC0010</th>\n",
       "      <td>2013</td>\n",
       "      <td>1</td>\n",
       "      <td>2</td>\n",
       "      <td>NaN</td>\n",
       "      <td>NaN</td>\n",
       "    </tr>\n",
       "  </tbody>\n",
       "</table>\n",
       "</div>"
      ],
      "text/plain": [
       "              year  month  day  maximum temperature (degree c) quality\n",
       "Product code                                                          \n",
       "IDCJAC0010    2013      1    1                             NaN     NaN\n",
       "IDCJAC0010    2013      1    2                             NaN     NaN"
      ]
     },
     "execution_count": 8,
     "metadata": {},
     "output_type": "execute_result"
    }
   ],
   "source": [
    "for column in max_temps.columns:\n",
    "    print(f'{column} has {max_temps[column].nunique()} unique values')\n",
    "max_temps.drop(['bureau of meteorology station number','days of accumulation of maximum temperature'],axis=1,inplace=True)\n",
    "max_temps.head(2)"
   ]
  },
  {
   "cell_type": "markdown",
   "metadata": {},
   "source": [
    "Seperate dates are useful but also cumbersome for filtering. Merging dates into 1 column."
   ]
  },
  {
   "cell_type": "code",
   "execution_count": 9,
   "metadata": {},
   "outputs": [
    {
     "data": {
      "text/html": [
       "<div>\n",
       "<style scoped>\n",
       "    .dataframe tbody tr th:only-of-type {\n",
       "        vertical-align: middle;\n",
       "    }\n",
       "\n",
       "    .dataframe tbody tr th {\n",
       "        vertical-align: top;\n",
       "    }\n",
       "\n",
       "    .dataframe thead th {\n",
       "        text-align: right;\n",
       "    }\n",
       "</style>\n",
       "<table border=\"1\" class=\"dataframe\">\n",
       "  <thead>\n",
       "    <tr style=\"text-align: right;\">\n",
       "      <th></th>\n",
       "      <th>year</th>\n",
       "      <th>month</th>\n",
       "      <th>day</th>\n",
       "      <th>maximum temperature (degree c)</th>\n",
       "      <th>quality</th>\n",
       "      <th>date</th>\n",
       "    </tr>\n",
       "    <tr>\n",
       "      <th>date</th>\n",
       "      <th></th>\n",
       "      <th></th>\n",
       "      <th></th>\n",
       "      <th></th>\n",
       "      <th></th>\n",
       "      <th></th>\n",
       "    </tr>\n",
       "  </thead>\n",
       "  <tbody>\n",
       "    <tr>\n",
       "      <th>2013-01-01</th>\n",
       "      <td>2013</td>\n",
       "      <td>1</td>\n",
       "      <td>1</td>\n",
       "      <td>NaN</td>\n",
       "      <td>NaN</td>\n",
       "      <td>2013-01-01</td>\n",
       "    </tr>\n",
       "    <tr>\n",
       "      <th>2013-01-02</th>\n",
       "      <td>2013</td>\n",
       "      <td>1</td>\n",
       "      <td>2</td>\n",
       "      <td>NaN</td>\n",
       "      <td>NaN</td>\n",
       "      <td>2013-01-02</td>\n",
       "    </tr>\n",
       "  </tbody>\n",
       "</table>\n",
       "</div>"
      ],
      "text/plain": [
       "            year  month  day  maximum temperature (degree c) quality  \\\n",
       "date                                                                   \n",
       "2013-01-01  2013      1    1                             NaN     NaN   \n",
       "2013-01-02  2013      1    2                             NaN     NaN   \n",
       "\n",
       "                 date  \n",
       "date                   \n",
       "2013-01-01 2013-01-01  \n",
       "2013-01-02 2013-01-02  "
      ]
     },
     "execution_count": 9,
     "metadata": {},
     "output_type": "execute_result"
    }
   ],
   "source": [
    "max_temps['date'] = pd.to_datetime(max_temps[['year','month','day']])\n",
    "max_temps.index = max_temps['date'] # set index as well.\n",
    "max_temps.head(2)"
   ]
  },
  {
   "cell_type": "markdown",
   "metadata": {},
   "source": [
    "Drop Nan Values"
   ]
  },
  {
   "cell_type": "code",
   "execution_count": 10,
   "metadata": {},
   "outputs": [
    {
     "name": "stdout",
     "output_type": "stream",
     "text": [
      "<class 'pandas.core.frame.DataFrame'>\n",
      "DatetimeIndex: 2833 entries, 2013-01-01 to 2020-10-03\n",
      "Data columns (total 6 columns):\n",
      " #   Column                          Non-Null Count  Dtype         \n",
      "---  ------                          --------------  -----         \n",
      " 0   year                            2833 non-null   int64         \n",
      " 1   month                           2833 non-null   int64         \n",
      " 2   day                             2833 non-null   int64         \n",
      " 3   maximum temperature (degree c)  2682 non-null   float64       \n",
      " 4   quality                         2681 non-null   object        \n",
      " 5   date                            2833 non-null   datetime64[ns]\n",
      "dtypes: datetime64[ns](1), float64(1), int64(3), object(1)\n",
      "memory usage: 154.9+ KB\n",
      "<class 'pandas.core.frame.DataFrame'>\n",
      "DatetimeIndex: 2681 entries, 2013-06-01 to 2020-10-03\n",
      "Data columns (total 6 columns):\n",
      " #   Column                          Non-Null Count  Dtype         \n",
      "---  ------                          --------------  -----         \n",
      " 0   year                            2681 non-null   int64         \n",
      " 1   month                           2681 non-null   int64         \n",
      " 2   day                             2681 non-null   int64         \n",
      " 3   maximum temperature (degree c)  2681 non-null   float64       \n",
      " 4   quality                         2681 non-null   object        \n",
      " 5   date                            2681 non-null   datetime64[ns]\n",
      "dtypes: datetime64[ns](1), float64(1), int64(3), object(1)\n",
      "memory usage: 146.6+ KB\n"
     ]
    }
   ],
   "source": [
    "max_temps.info()\n",
    "max_temps.dropna(axis=0, how='any', thresh=None, inplace=True)\n",
    "max_temps.info()"
   ]
  },
  {
   "cell_type": "markdown",
   "metadata": {},
   "source": [
    "## Solar Exposure EDA"
   ]
  },
  {
   "cell_type": "markdown",
   "metadata": {},
   "source": [
    "Lowercase column names for simplicity"
   ]
  },
  {
   "cell_type": "code",
   "execution_count": 11,
   "metadata": {},
   "outputs": [
    {
     "data": {
      "text/plain": [
       "['bureau of meteorology station number',\n",
       " 'year',\n",
       " 'month',\n",
       " 'day',\n",
       " 'daily global solar exposure (mj/m*m)']"
      ]
     },
     "execution_count": 11,
     "metadata": {},
     "output_type": "execute_result"
    }
   ],
   "source": [
    "solar_exposure.columns = map(str.lower, solar_exposure.columns)\n",
    "list(solar_exposure.columns)"
   ]
  },
  {
   "cell_type": "markdown",
   "metadata": {},
   "source": [
    "Remove columns with a single value"
   ]
  },
  {
   "cell_type": "code",
   "execution_count": 12,
   "metadata": {},
   "outputs": [
    {
     "name": "stdout",
     "output_type": "stream",
     "text": [
      "bureau of meteorology station number has 1 unique values\n",
      "year has 31 unique values\n",
      "month has 12 unique values\n",
      "day has 31 unique values\n",
      "daily global solar exposure (mj/m*m) has 354 unique values\n"
     ]
    },
    {
     "data": {
      "text/html": [
       "<div>\n",
       "<style scoped>\n",
       "    .dataframe tbody tr th:only-of-type {\n",
       "        vertical-align: middle;\n",
       "    }\n",
       "\n",
       "    .dataframe tbody tr th {\n",
       "        vertical-align: top;\n",
       "    }\n",
       "\n",
       "    .dataframe thead th {\n",
       "        text-align: right;\n",
       "    }\n",
       "</style>\n",
       "<table border=\"1\" class=\"dataframe\">\n",
       "  <thead>\n",
       "    <tr style=\"text-align: right;\">\n",
       "      <th></th>\n",
       "      <th>year</th>\n",
       "      <th>month</th>\n",
       "      <th>day</th>\n",
       "      <th>daily global solar exposure (mj/m*m)</th>\n",
       "    </tr>\n",
       "    <tr>\n",
       "      <th>Product code</th>\n",
       "      <th></th>\n",
       "      <th></th>\n",
       "      <th></th>\n",
       "      <th></th>\n",
       "    </tr>\n",
       "  </thead>\n",
       "  <tbody>\n",
       "    <tr>\n",
       "      <th>IDCJAC0016</th>\n",
       "      <td>1990</td>\n",
       "      <td>1</td>\n",
       "      <td>1</td>\n",
       "      <td>32.4</td>\n",
       "    </tr>\n",
       "    <tr>\n",
       "      <th>IDCJAC0016</th>\n",
       "      <td>1990</td>\n",
       "      <td>1</td>\n",
       "      <td>2</td>\n",
       "      <td>31.1</td>\n",
       "    </tr>\n",
       "  </tbody>\n",
       "</table>\n",
       "</div>"
      ],
      "text/plain": [
       "              year  month  day  daily global solar exposure (mj/m*m)\n",
       "Product code                                                        \n",
       "IDCJAC0016    1990      1    1                                  32.4\n",
       "IDCJAC0016    1990      1    2                                  31.1"
      ]
     },
     "execution_count": 12,
     "metadata": {},
     "output_type": "execute_result"
    }
   ],
   "source": [
    "for column in solar_exposure.columns:\n",
    "    print(f'{column} has {solar_exposure[column].nunique()} unique values')\n",
    "solar_exposure.drop(['bureau of meteorology station number'],axis=1,inplace=True)\n",
    "solar_exposure.head(2)"
   ]
  },
  {
   "cell_type": "markdown",
   "metadata": {},
   "source": [
    "Seperate dates are useful but also cumbersome for filtering. Merging dates into 1 column."
   ]
  },
  {
   "cell_type": "code",
   "execution_count": 13,
   "metadata": {},
   "outputs": [
    {
     "data": {
      "text/html": [
       "<div>\n",
       "<style scoped>\n",
       "    .dataframe tbody tr th:only-of-type {\n",
       "        vertical-align: middle;\n",
       "    }\n",
       "\n",
       "    .dataframe tbody tr th {\n",
       "        vertical-align: top;\n",
       "    }\n",
       "\n",
       "    .dataframe thead th {\n",
       "        text-align: right;\n",
       "    }\n",
       "</style>\n",
       "<table border=\"1\" class=\"dataframe\">\n",
       "  <thead>\n",
       "    <tr style=\"text-align: right;\">\n",
       "      <th></th>\n",
       "      <th>year</th>\n",
       "      <th>month</th>\n",
       "      <th>day</th>\n",
       "      <th>daily global solar exposure (mj/m*m)</th>\n",
       "      <th>date</th>\n",
       "    </tr>\n",
       "    <tr>\n",
       "      <th>date</th>\n",
       "      <th></th>\n",
       "      <th></th>\n",
       "      <th></th>\n",
       "      <th></th>\n",
       "      <th></th>\n",
       "    </tr>\n",
       "  </thead>\n",
       "  <tbody>\n",
       "    <tr>\n",
       "      <th>1990-01-01</th>\n",
       "      <td>1990</td>\n",
       "      <td>1</td>\n",
       "      <td>1</td>\n",
       "      <td>32.4</td>\n",
       "      <td>1990-01-01</td>\n",
       "    </tr>\n",
       "    <tr>\n",
       "      <th>1990-01-02</th>\n",
       "      <td>1990</td>\n",
       "      <td>1</td>\n",
       "      <td>2</td>\n",
       "      <td>31.1</td>\n",
       "      <td>1990-01-02</td>\n",
       "    </tr>\n",
       "  </tbody>\n",
       "</table>\n",
       "</div>"
      ],
      "text/plain": [
       "            year  month  day  daily global solar exposure (mj/m*m)       date\n",
       "date                                                                         \n",
       "1990-01-01  1990      1    1                                  32.4 1990-01-01\n",
       "1990-01-02  1990      1    2                                  31.1 1990-01-02"
      ]
     },
     "execution_count": 13,
     "metadata": {},
     "output_type": "execute_result"
    }
   ],
   "source": [
    "solar_exposure['date'] = pd.to_datetime(solar_exposure[['year','month','day']])\n",
    "solar_exposure.index = solar_exposure['date'] # set index as well.\n",
    "solar_exposure.head(2)"
   ]
  },
  {
   "cell_type": "markdown",
   "metadata": {},
   "source": [
    "Drop Nan Values"
   ]
  },
  {
   "cell_type": "code",
   "execution_count": 14,
   "metadata": {},
   "outputs": [
    {
     "name": "stdout",
     "output_type": "stream",
     "text": [
      "<class 'pandas.core.frame.DataFrame'>\n",
      "DatetimeIndex: 11235 entries, 1990-01-01 to 2020-10-04\n",
      "Data columns (total 5 columns):\n",
      " #   Column                                Non-Null Count  Dtype         \n",
      "---  ------                                --------------  -----         \n",
      " 0   year                                  11235 non-null  int64         \n",
      " 1   month                                 11235 non-null  int64         \n",
      " 2   day                                   11235 non-null  int64         \n",
      " 3   daily global solar exposure (mj/m*m)  10759 non-null  float64       \n",
      " 4   date                                  11235 non-null  datetime64[ns]\n",
      "dtypes: datetime64[ns](1), float64(1), int64(3)\n",
      "memory usage: 526.6 KB\n",
      "<class 'pandas.core.frame.DataFrame'>\n",
      "DatetimeIndex: 10759 entries, 1990-01-01 to 2020-10-04\n",
      "Data columns (total 5 columns):\n",
      " #   Column                                Non-Null Count  Dtype         \n",
      "---  ------                                --------------  -----         \n",
      " 0   year                                  10759 non-null  int64         \n",
      " 1   month                                 10759 non-null  int64         \n",
      " 2   day                                   10759 non-null  int64         \n",
      " 3   daily global solar exposure (mj/m*m)  10759 non-null  float64       \n",
      " 4   date                                  10759 non-null  datetime64[ns]\n",
      "dtypes: datetime64[ns](1), float64(1), int64(3)\n",
      "memory usage: 504.3 KB\n"
     ]
    }
   ],
   "source": [
    "solar_exposure.info()\n",
    "solar_exposure.dropna(axis=0, how='any', thresh=None, inplace=True)\n",
    "solar_exposure.info()"
   ]
  },
  {
   "cell_type": "code",
   "execution_count": 15,
   "metadata": {},
   "outputs": [
    {
     "name": "stdout",
     "output_type": "stream",
     "text": [
      "Shape of Rainfall:\t\t(2679, 6)\n",
      "Shape of Max Temps:\t\t(2681, 6)\n",
      "Shape of Solar Exposure:\t(10759, 5)\n"
     ]
    }
   ],
   "source": [
    "print(f'Shape of Rainfall:\t\t{rainfall.shape}')\n",
    "print(f'Shape of Max Temps:\t\t{max_temps.shape}')\n",
    "print(f'Shape of Solar Exposure:\t{solar_exposure.shape}')"
   ]
  },
  {
   "cell_type": "markdown",
   "metadata": {},
   "source": [
    "We need to use to use Rainfall as a our base file."
   ]
  },
  {
   "cell_type": "code",
   "execution_count": 16,
   "metadata": {},
   "outputs": [],
   "source": [
    "weather = pd.merge(rainfall, max_temps, how='left', left_index=True, right_index=True, suffixes=('_rf', '_mt'))"
   ]
  },
  {
   "cell_type": "code",
   "execution_count": 17,
   "metadata": {},
   "outputs": [],
   "source": [
    "weather = pd.merge(weather, solar_exposure, how='left', left_index=True, right_index=True, suffixes=('_w', '_se'))"
   ]
  },
  {
   "cell_type": "markdown",
   "metadata": {},
   "source": [
    "Clean up the file and remove redundant columns."
   ]
  },
  {
   "cell_type": "code",
   "execution_count": 18,
   "metadata": {},
   "outputs": [
    {
     "data": {
      "text/plain": [
       "Index(['year_rf', 'month_rf', 'day_rf', 'rainfall amount (millimetres)',\n",
       "       'quality_rf', 'date_rf', 'year_mt', 'month_mt', 'day_mt',\n",
       "       'maximum temperature (degree c)', 'quality_mt', 'date_mt', 'year',\n",
       "       'month', 'day', 'daily global solar exposure (mj/m*m)', 'date'],\n",
       "      dtype='object')"
      ]
     },
     "execution_count": 18,
     "metadata": {},
     "output_type": "execute_result"
    }
   ],
   "source": [
    "weather.columns"
   ]
  },
  {
   "cell_type": "code",
   "execution_count": 19,
   "metadata": {},
   "outputs": [],
   "source": [
    "weather = weather[['rainfall amount (millimetres)', 'quality_rf', 'maximum temperature (degree c)', 'quality_mt', 'daily global solar exposure (mj/m*m)']]"
   ]
  },
  {
   "cell_type": "code",
   "execution_count": 20,
   "metadata": {},
   "outputs": [
    {
     "name": "stdout",
     "output_type": "stream",
     "text": [
      "<class 'pandas.core.frame.DataFrame'>\n",
      "DatetimeIndex: 2679 entries, 2013-06-02 to 2020-10-04\n",
      "Data columns (total 5 columns):\n",
      " #   Column                                Non-Null Count  Dtype  \n",
      "---  ------                                --------------  -----  \n",
      " 0   rainfall amount (millimetres)         2679 non-null   float64\n",
      " 1   quality_rf                            2679 non-null   object \n",
      " 2   maximum temperature (degree c)        2677 non-null   float64\n",
      " 3   quality_mt                            2677 non-null   object \n",
      " 4   daily global solar exposure (mj/m*m)  2678 non-null   float64\n",
      "dtypes: float64(3), object(2)\n",
      "memory usage: 205.6+ KB\n"
     ]
    },
    {
     "data": {
      "text/html": [
       "<div>\n",
       "<style scoped>\n",
       "    .dataframe tbody tr th:only-of-type {\n",
       "        vertical-align: middle;\n",
       "    }\n",
       "\n",
       "    .dataframe tbody tr th {\n",
       "        vertical-align: top;\n",
       "    }\n",
       "\n",
       "    .dataframe thead th {\n",
       "        text-align: right;\n",
       "    }\n",
       "</style>\n",
       "<table border=\"1\" class=\"dataframe\">\n",
       "  <thead>\n",
       "    <tr style=\"text-align: right;\">\n",
       "      <th></th>\n",
       "      <th>rainfall amount (millimetres)</th>\n",
       "      <th>quality_rf</th>\n",
       "      <th>maximum temperature (degree c)</th>\n",
       "      <th>quality_mt</th>\n",
       "      <th>daily global solar exposure (mj/m*m)</th>\n",
       "    </tr>\n",
       "    <tr>\n",
       "      <th>date</th>\n",
       "      <th></th>\n",
       "      <th></th>\n",
       "      <th></th>\n",
       "      <th></th>\n",
       "      <th></th>\n",
       "    </tr>\n",
       "  </thead>\n",
       "  <tbody>\n",
       "    <tr>\n",
       "      <th>2013-06-02</th>\n",
       "      <td>5.0</td>\n",
       "      <td>N</td>\n",
       "      <td>15.7</td>\n",
       "      <td>Y</td>\n",
       "      <td>8.0</td>\n",
       "    </tr>\n",
       "    <tr>\n",
       "      <th>2013-06-03</th>\n",
       "      <td>0.2</td>\n",
       "      <td>N</td>\n",
       "      <td>14.8</td>\n",
       "      <td>Y</td>\n",
       "      <td>5.2</td>\n",
       "    </tr>\n",
       "    <tr>\n",
       "      <th>2013-06-04</th>\n",
       "      <td>0.2</td>\n",
       "      <td>N</td>\n",
       "      <td>15.0</td>\n",
       "      <td>Y</td>\n",
       "      <td>3.8</td>\n",
       "    </tr>\n",
       "    <tr>\n",
       "      <th>2013-06-05</th>\n",
       "      <td>0.0</td>\n",
       "      <td>N</td>\n",
       "      <td>14.6</td>\n",
       "      <td>Y</td>\n",
       "      <td>4.9</td>\n",
       "    </tr>\n",
       "    <tr>\n",
       "      <th>2013-06-06</th>\n",
       "      <td>0.0</td>\n",
       "      <td>N</td>\n",
       "      <td>17.3</td>\n",
       "      <td>Y</td>\n",
       "      <td>6.2</td>\n",
       "    </tr>\n",
       "    <tr>\n",
       "      <th>2020-09-30</th>\n",
       "      <td>0.6</td>\n",
       "      <td>N</td>\n",
       "      <td>19.4</td>\n",
       "      <td>N</td>\n",
       "      <td>13.0</td>\n",
       "    </tr>\n",
       "    <tr>\n",
       "      <th>2020-10-01</th>\n",
       "      <td>1.8</td>\n",
       "      <td>N</td>\n",
       "      <td>19.5</td>\n",
       "      <td>N</td>\n",
       "      <td>21.2</td>\n",
       "    </tr>\n",
       "    <tr>\n",
       "      <th>2020-10-02</th>\n",
       "      <td>0.0</td>\n",
       "      <td>N</td>\n",
       "      <td>26.0</td>\n",
       "      <td>N</td>\n",
       "      <td>22.0</td>\n",
       "    </tr>\n",
       "    <tr>\n",
       "      <th>2020-10-03</th>\n",
       "      <td>0.0</td>\n",
       "      <td>N</td>\n",
       "      <td>29.4</td>\n",
       "      <td>N</td>\n",
       "      <td>19.8</td>\n",
       "    </tr>\n",
       "    <tr>\n",
       "      <th>2020-10-04</th>\n",
       "      <td>0.0</td>\n",
       "      <td>N</td>\n",
       "      <td>NaN</td>\n",
       "      <td>NaN</td>\n",
       "      <td>8.4</td>\n",
       "    </tr>\n",
       "  </tbody>\n",
       "</table>\n",
       "</div>"
      ],
      "text/plain": [
       "            rainfall amount (millimetres) quality_rf  \\\n",
       "date                                                   \n",
       "2013-06-02                            5.0          N   \n",
       "2013-06-03                            0.2          N   \n",
       "2013-06-04                            0.2          N   \n",
       "2013-06-05                            0.0          N   \n",
       "2013-06-06                            0.0          N   \n",
       "2020-09-30                            0.6          N   \n",
       "2020-10-01                            1.8          N   \n",
       "2020-10-02                            0.0          N   \n",
       "2020-10-03                            0.0          N   \n",
       "2020-10-04                            0.0          N   \n",
       "\n",
       "            maximum temperature (degree c) quality_mt  \\\n",
       "date                                                    \n",
       "2013-06-02                            15.7          Y   \n",
       "2013-06-03                            14.8          Y   \n",
       "2013-06-04                            15.0          Y   \n",
       "2013-06-05                            14.6          Y   \n",
       "2013-06-06                            17.3          Y   \n",
       "2020-09-30                            19.4          N   \n",
       "2020-10-01                            19.5          N   \n",
       "2020-10-02                            26.0          N   \n",
       "2020-10-03                            29.4          N   \n",
       "2020-10-04                             NaN        NaN   \n",
       "\n",
       "            daily global solar exposure (mj/m*m)  \n",
       "date                                              \n",
       "2013-06-02                                   8.0  \n",
       "2013-06-03                                   5.2  \n",
       "2013-06-04                                   3.8  \n",
       "2013-06-05                                   4.9  \n",
       "2013-06-06                                   6.2  \n",
       "2020-09-30                                  13.0  \n",
       "2020-10-01                                  21.2  \n",
       "2020-10-02                                  22.0  \n",
       "2020-10-03                                  19.8  \n",
       "2020-10-04                                   8.4  "
      ]
     },
     "execution_count": 20,
     "metadata": {},
     "output_type": "execute_result"
    }
   ],
   "source": [
    "weather.info()\n",
    "weather.head().append(weather.tail())"
   ]
  },
  {
   "cell_type": "markdown",
   "metadata": {},
   "source": [
    "We have Y/N columns that can be binarized, but NaN's must be respected"
   ]
  },
  {
   "cell_type": "code",
   "execution_count": 21,
   "metadata": {},
   "outputs": [
    {
     "data": {
      "text/html": [
       "<div>\n",
       "<style scoped>\n",
       "    .dataframe tbody tr th:only-of-type {\n",
       "        vertical-align: middle;\n",
       "    }\n",
       "\n",
       "    .dataframe tbody tr th {\n",
       "        vertical-align: top;\n",
       "    }\n",
       "\n",
       "    .dataframe thead th {\n",
       "        text-align: right;\n",
       "    }\n",
       "</style>\n",
       "<table border=\"1\" class=\"dataframe\">\n",
       "  <thead>\n",
       "    <tr style=\"text-align: right;\">\n",
       "      <th></th>\n",
       "      <th>rainfall amount (millimetres)</th>\n",
       "      <th>quality_rf</th>\n",
       "      <th>maximum temperature (degree c)</th>\n",
       "      <th>quality_mt</th>\n",
       "      <th>daily global solar exposure (mj/m*m)</th>\n",
       "    </tr>\n",
       "    <tr>\n",
       "      <th>date</th>\n",
       "      <th></th>\n",
       "      <th></th>\n",
       "      <th></th>\n",
       "      <th></th>\n",
       "      <th></th>\n",
       "    </tr>\n",
       "  </thead>\n",
       "  <tbody>\n",
       "    <tr>\n",
       "      <th>2013-06-02</th>\n",
       "      <td>5.0</td>\n",
       "      <td>0</td>\n",
       "      <td>15.7</td>\n",
       "      <td>1.0</td>\n",
       "      <td>8.0</td>\n",
       "    </tr>\n",
       "    <tr>\n",
       "      <th>2013-06-03</th>\n",
       "      <td>0.2</td>\n",
       "      <td>0</td>\n",
       "      <td>14.8</td>\n",
       "      <td>1.0</td>\n",
       "      <td>5.2</td>\n",
       "    </tr>\n",
       "    <tr>\n",
       "      <th>2013-06-04</th>\n",
       "      <td>0.2</td>\n",
       "      <td>0</td>\n",
       "      <td>15.0</td>\n",
       "      <td>1.0</td>\n",
       "      <td>3.8</td>\n",
       "    </tr>\n",
       "    <tr>\n",
       "      <th>2013-06-05</th>\n",
       "      <td>0.0</td>\n",
       "      <td>0</td>\n",
       "      <td>14.6</td>\n",
       "      <td>1.0</td>\n",
       "      <td>4.9</td>\n",
       "    </tr>\n",
       "    <tr>\n",
       "      <th>2013-06-06</th>\n",
       "      <td>0.0</td>\n",
       "      <td>0</td>\n",
       "      <td>17.3</td>\n",
       "      <td>1.0</td>\n",
       "      <td>6.2</td>\n",
       "    </tr>\n",
       "    <tr>\n",
       "      <th>...</th>\n",
       "      <td>...</td>\n",
       "      <td>...</td>\n",
       "      <td>...</td>\n",
       "      <td>...</td>\n",
       "      <td>...</td>\n",
       "    </tr>\n",
       "    <tr>\n",
       "      <th>2020-09-30</th>\n",
       "      <td>0.6</td>\n",
       "      <td>0</td>\n",
       "      <td>19.4</td>\n",
       "      <td>0.0</td>\n",
       "      <td>13.0</td>\n",
       "    </tr>\n",
       "    <tr>\n",
       "      <th>2020-10-01</th>\n",
       "      <td>1.8</td>\n",
       "      <td>0</td>\n",
       "      <td>19.5</td>\n",
       "      <td>0.0</td>\n",
       "      <td>21.2</td>\n",
       "    </tr>\n",
       "    <tr>\n",
       "      <th>2020-10-02</th>\n",
       "      <td>0.0</td>\n",
       "      <td>0</td>\n",
       "      <td>26.0</td>\n",
       "      <td>0.0</td>\n",
       "      <td>22.0</td>\n",
       "    </tr>\n",
       "    <tr>\n",
       "      <th>2020-10-03</th>\n",
       "      <td>0.0</td>\n",
       "      <td>0</td>\n",
       "      <td>29.4</td>\n",
       "      <td>0.0</td>\n",
       "      <td>19.8</td>\n",
       "    </tr>\n",
       "    <tr>\n",
       "      <th>2020-10-04</th>\n",
       "      <td>0.0</td>\n",
       "      <td>0</td>\n",
       "      <td>NaN</td>\n",
       "      <td>NaN</td>\n",
       "      <td>8.4</td>\n",
       "    </tr>\n",
       "  </tbody>\n",
       "</table>\n",
       "<p>2679 rows × 5 columns</p>\n",
       "</div>"
      ],
      "text/plain": [
       "            rainfall amount (millimetres)  quality_rf  \\\n",
       "date                                                    \n",
       "2013-06-02                            5.0           0   \n",
       "2013-06-03                            0.2           0   \n",
       "2013-06-04                            0.2           0   \n",
       "2013-06-05                            0.0           0   \n",
       "2013-06-06                            0.0           0   \n",
       "...                                   ...         ...   \n",
       "2020-09-30                            0.6           0   \n",
       "2020-10-01                            1.8           0   \n",
       "2020-10-02                            0.0           0   \n",
       "2020-10-03                            0.0           0   \n",
       "2020-10-04                            0.0           0   \n",
       "\n",
       "            maximum temperature (degree c)  quality_mt  \\\n",
       "date                                                     \n",
       "2013-06-02                            15.7         1.0   \n",
       "2013-06-03                            14.8         1.0   \n",
       "2013-06-04                            15.0         1.0   \n",
       "2013-06-05                            14.6         1.0   \n",
       "2013-06-06                            17.3         1.0   \n",
       "...                                    ...         ...   \n",
       "2020-09-30                            19.4         0.0   \n",
       "2020-10-01                            19.5         0.0   \n",
       "2020-10-02                            26.0         0.0   \n",
       "2020-10-03                            29.4         0.0   \n",
       "2020-10-04                             NaN         NaN   \n",
       "\n",
       "            daily global solar exposure (mj/m*m)  \n",
       "date                                              \n",
       "2013-06-02                                   8.0  \n",
       "2013-06-03                                   5.2  \n",
       "2013-06-04                                   3.8  \n",
       "2013-06-05                                   4.9  \n",
       "2013-06-06                                   6.2  \n",
       "...                                          ...  \n",
       "2020-09-30                                  13.0  \n",
       "2020-10-01                                  21.2  \n",
       "2020-10-02                                  22.0  \n",
       "2020-10-03                                  19.8  \n",
       "2020-10-04                                   8.4  \n",
       "\n",
       "[2679 rows x 5 columns]"
      ]
     },
     "execution_count": 21,
     "metadata": {},
     "output_type": "execute_result"
    }
   ],
   "source": [
    "weather['quality_rf'] = weather['quality_rf'].map(dict(Y=1, N=0))\n",
    "weather['quality_mt'] = weather['quality_mt'].map(dict(Y=1, N=0))\n",
    "weather"
   ]
  },
  {
   "cell_type": "markdown",
   "metadata": {},
   "source": [
    "Double check "
   ]
  },
  {
   "cell_type": "code",
   "execution_count": 22,
   "metadata": {},
   "outputs": [
    {
     "name": "stdout",
     "output_type": "stream",
     "text": [
      "Qualtiy RF and MT have 2/2 and 2/2  unique values\n"
     ]
    }
   ],
   "source": [
    "print(f\"Qualtiy RF and MT have {weather['quality_rf'].nunique()}/2 and {weather['quality_mt'].nunique()}/2  unique values\")"
   ]
  },
  {
   "cell_type": "markdown",
   "metadata": {},
   "source": [
    "Finally, we want to convert solar_exposure values to UV index values (max 40 vs max 12)"
   ]
  },
  {
   "cell_type": "code",
   "execution_count": 23,
   "metadata": {},
   "outputs": [],
   "source": [
    "weather['daily global solar exposure (mj/m*m)'] = [((i - 0) / (40 - 0)) * (12 - 0) + 0 for i in weather['daily global solar exposure (mj/m*m)']]"
   ]
  },
  {
   "cell_type": "code",
   "execution_count": 24,
   "metadata": {},
   "outputs": [
    {
     "name": "stdout",
     "output_type": "stream",
     "text": [
      "10.23\n"
     ]
    }
   ],
   "source": [
    "print(weather['daily global solar exposure (mj/m*m)'].max()) # Should not be more than 12."
   ]
  },
  {
   "cell_type": "markdown",
   "metadata": {},
   "source": [
    "## Fill missing values with multivariate imputer (Experimental)\n",
    "We only have a couple of missing values, so it's worth a try."
   ]
  },
  {
   "cell_type": "code",
   "execution_count": 25,
   "metadata": {},
   "outputs": [
    {
     "name": "stdout",
     "output_type": "stream",
     "text": [
      "<class 'pandas.core.frame.DataFrame'>\n",
      "DatetimeIndex: 2679 entries, 2013-06-02 to 2020-10-04\n",
      "Data columns (total 5 columns):\n",
      " #   Column                                Non-Null Count  Dtype  \n",
      "---  ------                                --------------  -----  \n",
      " 0   rainfall amount (millimetres)         2679 non-null   float64\n",
      " 1   quality_rf                            2679 non-null   float64\n",
      " 2   maximum temperature (degree c)        2679 non-null   float64\n",
      " 3   quality_mt                            2679 non-null   float64\n",
      " 4   daily global solar exposure (mj/m*m)  2679 non-null   float64\n",
      "dtypes: float64(5)\n",
      "memory usage: 205.6 KB\n"
     ]
    }
   ],
   "source": [
    "from sklearn.experimental import enable_iterative_imputer\n",
    "from sklearn.impute import IterativeImputer\n",
    "imp = IterativeImputer(max_iter=10, random_state=0)\n",
    "imp.fit(weather)\n",
    "IterativeImputer(random_state=0)\n",
    "X_test = weather\n",
    "# the model learns that the second feature is double the first\n",
    "imp_weather = np.round(imp.transform(X_test))\n",
    "imp_weather = pd.DataFrame(imp_weather, columns=weather.columns, index=weather.index)\n",
    "imp_weather.info()"
   ]
  },
  {
   "cell_type": "markdown",
   "metadata": {},
   "source": [
    "Rename columns to something more useable and final. Note: uv_index to reflect new scale."
   ]
  },
  {
   "cell_type": "code",
   "execution_count": 26,
   "metadata": {},
   "outputs": [
    {
     "data": {
      "text/html": [
       "<div>\n",
       "<style scoped>\n",
       "    .dataframe tbody tr th:only-of-type {\n",
       "        vertical-align: middle;\n",
       "    }\n",
       "\n",
       "    .dataframe tbody tr th {\n",
       "        vertical-align: top;\n",
       "    }\n",
       "\n",
       "    .dataframe thead th {\n",
       "        text-align: right;\n",
       "    }\n",
       "</style>\n",
       "<table border=\"1\" class=\"dataframe\">\n",
       "  <thead>\n",
       "    <tr style=\"text-align: right;\">\n",
       "      <th></th>\n",
       "      <th>rainfall_mm</th>\n",
       "      <th>quality_rf</th>\n",
       "      <th>max_temp_c</th>\n",
       "      <th>quality_mt</th>\n",
       "      <th>uv_index</th>\n",
       "    </tr>\n",
       "    <tr>\n",
       "      <th>date</th>\n",
       "      <th></th>\n",
       "      <th></th>\n",
       "      <th></th>\n",
       "      <th></th>\n",
       "      <th></th>\n",
       "    </tr>\n",
       "  </thead>\n",
       "  <tbody>\n",
       "    <tr>\n",
       "      <th>2013-06-02</th>\n",
       "      <td>5.0</td>\n",
       "      <td>0.0</td>\n",
       "      <td>16.0</td>\n",
       "      <td>1.0</td>\n",
       "      <td>2.0</td>\n",
       "    </tr>\n",
       "    <tr>\n",
       "      <th>2013-06-03</th>\n",
       "      <td>0.0</td>\n",
       "      <td>0.0</td>\n",
       "      <td>15.0</td>\n",
       "      <td>1.0</td>\n",
       "      <td>2.0</td>\n",
       "    </tr>\n",
       "  </tbody>\n",
       "</table>\n",
       "</div>"
      ],
      "text/plain": [
       "            rainfall_mm  quality_rf  max_temp_c  quality_mt  uv_index\n",
       "date                                                                 \n",
       "2013-06-02          5.0         0.0        16.0         1.0       2.0\n",
       "2013-06-03          0.0         0.0        15.0         1.0       2.0"
      ]
     },
     "execution_count": 26,
     "metadata": {},
     "output_type": "execute_result"
    }
   ],
   "source": [
    "imp_weather.columns = ['rainfall_mm', 'quality_rf', 'max_temp_c', 'quality_mt', 'uv_index']\n",
    "imp_weather.head(2)"
   ]
  },
  {
   "cell_type": "markdown",
   "metadata": {},
   "source": [
    "### Save File!"
   ]
  },
  {
   "cell_type": "code",
   "execution_count": 34,
   "metadata": {},
   "outputs": [],
   "source": [
    "imp_weather.to_csv('../data/weather.csv')"
   ]
  },
  {
   "cell_type": "markdown",
   "metadata": {},
   "source": [
    "## Fetch New Weather from API"
   ]
  },
  {
   "cell_type": "code",
   "execution_count": 28,
   "metadata": {},
   "outputs": [],
   "source": [
    "import requests"
   ]
  },
  {
   "cell_type": "code",
   "execution_count": 29,
   "metadata": {},
   "outputs": [
    {
     "name": "stdout",
     "output_type": "stream",
     "text": [
      "dict_keys(['data', 'metadata'])\n"
     ]
    }
   ],
   "source": [
    "url = 'https://api.weather.bom.gov.au/v1/locations/r1r143/forecasts/daily'\n",
    "response = requests.get(url)\n",
    "weather_dict = response.json() # format as json\n",
    "print(weather_dict.keys())"
   ]
  },
  {
   "cell_type": "code",
   "execution_count": 30,
   "metadata": {},
   "outputs": [],
   "source": [
    "tomorrow_max = weather_dict['data'][1]['temp_max']\n",
    "rain = weather_dict['data'][1]['rain']['amount']['max']# - weather_dict['data'][0]['rain']['amount']['min']\n",
    "uv = weather_dict['data'][1]['uv']['max_index']\n",
    "q_rf = 1 # assuming quality data\n",
    "q_mt = 1 # assuming quality data"
   ]
  },
  {
   "cell_type": "markdown",
   "metadata": {},
   "source": [
    "## Forecast Max Temp with Random Forrest Regressor"
   ]
  },
  {
   "cell_type": "code",
   "execution_count": 31,
   "metadata": {},
   "outputs": [],
   "source": [
    "from sklearn.ensemble import RandomForestRegressor"
   ]
  },
  {
   "cell_type": "code",
   "execution_count": 32,
   "metadata": {},
   "outputs": [
    {
     "data": {
      "text/plain": [
       "RandomForestRegressor(max_depth=3, random_state=42)"
      ]
     },
     "execution_count": 32,
     "metadata": {},
     "output_type": "execute_result"
    }
   ],
   "source": [
    "y = imp_weather['max_temp_c']\n",
    "X = imp_weather.drop(['max_temp_c'], axis=1)\n",
    "\n",
    "regr = RandomForestRegressor(max_depth=3, random_state=42)\n",
    "regr.fit(X, y)"
   ]
  },
  {
   "cell_type": "code",
   "execution_count": 33,
   "metadata": {},
   "outputs": [
    {
     "name": "stdout",
     "output_type": "stream",
     "text": [
      "The temperature forecast by the BOM tomorrow is 14 and by our model is 20.695690931780828, with 0.40% accuracy\n"
     ]
    }
   ],
   "source": [
    "[predicted_mt] = regr.predict([[rain, q_rf, q_mt, uv]]) # sbracket both sides to remove from list.\n",
    "score = regr.score(X, y) # R^2 (coefficient of determination) regression score function.\n",
    "print(f'The temperature forecast by the BOM tomorrow is {tomorrow_max} and by our model is {predicted_mt}, with {score:.2f}% accuracy')"
   ]
  },
  {
   "cell_type": "markdown",
   "metadata": {},
   "source": [
    "# Head over to report.ipynb for the final result!"
   ]
  },
  {
   "cell_type": "code",
   "execution_count": 36,
   "metadata": {},
   "outputs": [],
   "source": [
    "# fin"
   ]
  }
 ],
 "metadata": {
  "kernelspec": {
   "display_name": "Python 3",
   "language": "python",
   "name": "python3"
  },
  "language_info": {
   "codemirror_mode": {
    "name": "ipython",
    "version": 3
   },
   "file_extension": ".py",
   "mimetype": "text/x-python",
   "name": "python",
   "nbconvert_exporter": "python",
   "pygments_lexer": "ipython3",
   "version": "3.7.7"
  }
 },
 "nbformat": 4,
 "nbformat_minor": 4
}
