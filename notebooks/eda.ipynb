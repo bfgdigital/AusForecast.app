{
 "cells": [
  {
   "cell_type": "markdown",
   "metadata": {},
   "source": [
    "<a id='section_id1'></a>\n",
    "# Weather Data Exploratory Data Analysis\n",
    "\n",
    "\n",
    "[Click here to download latest rain data](http://www.bom.gov.au/jsp/ncc/cdio/weatherData/av?p_display_type=dailyZippedDataFile&p_stn_num=086338&p_c=-1490990496&p_nccObsCode=136&p_startYear=2020)   \n",
    "[Click here to download latest max temp data](http://www.bom.gov.au/jsp/ncc/cdio/weatherData/av?p_display_type=dailyZippedDataFile&p_stn_num=086338&p_c=-1490987607&p_nccObsCode=122&p_startYear=2020)   \n",
    "[Click here to download latest min temp data](http://www.bom.gov.au/jsp/ncc/cdio/weatherData/av?p_display_type=dailyZippedDataFile&p_stn_num=086338&p_c=-1490987803&p_nccObsCode=123&p_startYear=2020)   \n",
    "[Click here to download latest solar exposure data](http://www.bom.gov.au/jsp/ncc/cdio/weatherData/av?p_display_type=dailyZippedDataFile&p_stn_num=086338&p_c=-1491005499&p_nccObsCode=193&p_startYear=2020)   \n",
    "\n",
    "[Click Here for Report Notebook](report.ipynb#section_id1)"
   ]
  },
  {
   "cell_type": "code",
   "execution_count": 1,
   "metadata": {},
   "outputs": [],
   "source": [
    "import pandas as pd\n",
    "import numpy as np\n",
    "import requests\n",
    "from matplotlib import pyplot as plt"
   ]
  },
  {
   "cell_type": "code",
   "execution_count": 2,
   "metadata": {},
   "outputs": [],
   "source": [
    "rainfall = pd.read_csv('../data/training_data/rainfall.csv',infer_datetime_format=True,index_col=0)\n",
    "solar_exposure = pd.read_csv('../data/training_data/solar_exposure.csv',infer_datetime_format=True,index_col=0)\n",
    "max_temps = pd.read_csv('../data/training_data/max_temps.csv',infer_datetime_format=True,index_col=0)\n",
    "min_temps = pd.read_csv('../data/training_data/min_temps.csv',infer_datetime_format=True,index_col=0)"
   ]
  },
  {
   "cell_type": "markdown",
   "metadata": {},
   "source": [
    "### Each dataframe has a seperate 'Year', 'Month', 'Day' column as intergers.\n",
    "To merge the data into a single dataframe, make the index's datetime."
   ]
  },
  {
   "cell_type": "markdown",
   "metadata": {},
   "source": [
    "Solar Exposure has the longest date index, so it will be our primary file."
   ]
  },
  {
   "cell_type": "markdown",
   "metadata": {},
   "source": [
    "## Rainfall EDA"
   ]
  },
  {
   "cell_type": "markdown",
   "metadata": {},
   "source": [
    "Lowercase column names for simplicity"
   ]
  },
  {
   "cell_type": "code",
   "execution_count": 3,
   "metadata": {},
   "outputs": [
    {
     "data": {
      "text/plain": [
       "['bureau of meteorology station number',\n",
       " 'year',\n",
       " 'month',\n",
       " 'day',\n",
       " 'rainfall amount (millimetres)',\n",
       " 'period over which rainfall was measured (days)',\n",
       " 'quality']"
      ]
     },
     "execution_count": 3,
     "metadata": {},
     "output_type": "execute_result"
    }
   ],
   "source": [
    "rainfall.columns = map(str.lower, rainfall.columns)\n",
    "list(rainfall.columns)"
   ]
  },
  {
   "cell_type": "markdown",
   "metadata": {},
   "source": [
    "Remove columns with a single value"
   ]
  },
  {
   "cell_type": "code",
   "execution_count": 4,
   "metadata": {},
   "outputs": [
    {
     "name": "stdout",
     "output_type": "stream",
     "text": [
      "bureau of meteorology station number has 1 unique values\n",
      "year has 8 unique values\n",
      "month has 12 unique values\n",
      "day has 31 unique values\n",
      "rainfall amount (millimetres) has 112 unique values\n",
      "period over which rainfall was measured (days) has 1 unique values\n",
      "quality has 2 unique values\n"
     ]
    },
    {
     "data": {
      "text/html": [
       "<div>\n",
       "<style scoped>\n",
       "    .dataframe tbody tr th:only-of-type {\n",
       "        vertical-align: middle;\n",
       "    }\n",
       "\n",
       "    .dataframe tbody tr th {\n",
       "        vertical-align: top;\n",
       "    }\n",
       "\n",
       "    .dataframe thead th {\n",
       "        text-align: right;\n",
       "    }\n",
       "</style>\n",
       "<table border=\"1\" class=\"dataframe\">\n",
       "  <thead>\n",
       "    <tr style=\"text-align: right;\">\n",
       "      <th></th>\n",
       "      <th>year</th>\n",
       "      <th>month</th>\n",
       "      <th>day</th>\n",
       "      <th>rainfall amount (millimetres)</th>\n",
       "      <th>quality</th>\n",
       "    </tr>\n",
       "    <tr>\n",
       "      <th>Product code</th>\n",
       "      <th></th>\n",
       "      <th></th>\n",
       "      <th></th>\n",
       "      <th></th>\n",
       "      <th></th>\n",
       "    </tr>\n",
       "  </thead>\n",
       "  <tbody>\n",
       "    <tr>\n",
       "      <th>IDCJAC0009</th>\n",
       "      <td>2013</td>\n",
       "      <td>1</td>\n",
       "      <td>1</td>\n",
       "      <td>NaN</td>\n",
       "      <td>NaN</td>\n",
       "    </tr>\n",
       "    <tr>\n",
       "      <th>IDCJAC0009</th>\n",
       "      <td>2013</td>\n",
       "      <td>1</td>\n",
       "      <td>2</td>\n",
       "      <td>NaN</td>\n",
       "      <td>NaN</td>\n",
       "    </tr>\n",
       "  </tbody>\n",
       "</table>\n",
       "</div>"
      ],
      "text/plain": [
       "              year  month  day  rainfall amount (millimetres) quality\n",
       "Product code                                                         \n",
       "IDCJAC0009    2013      1    1                            NaN     NaN\n",
       "IDCJAC0009    2013      1    2                            NaN     NaN"
      ]
     },
     "execution_count": 4,
     "metadata": {},
     "output_type": "execute_result"
    }
   ],
   "source": [
    "for column in rainfall.columns:\n",
    "    print(f'{column} has {rainfall[column].nunique()} unique values')\n",
    "rainfall.drop(['bureau of meteorology station number','period over which rainfall was measured (days)'],axis=1,inplace=True)\n",
    "rainfall.head(2)"
   ]
  },
  {
   "cell_type": "markdown",
   "metadata": {},
   "source": [
    "Seperate dates are useful but also cumbersome for filtering. Merging dates into 1 column."
   ]
  },
  {
   "cell_type": "code",
   "execution_count": 5,
   "metadata": {},
   "outputs": [
    {
     "data": {
      "text/html": [
       "<div>\n",
       "<style scoped>\n",
       "    .dataframe tbody tr th:only-of-type {\n",
       "        vertical-align: middle;\n",
       "    }\n",
       "\n",
       "    .dataframe tbody tr th {\n",
       "        vertical-align: top;\n",
       "    }\n",
       "\n",
       "    .dataframe thead th {\n",
       "        text-align: right;\n",
       "    }\n",
       "</style>\n",
       "<table border=\"1\" class=\"dataframe\">\n",
       "  <thead>\n",
       "    <tr style=\"text-align: right;\">\n",
       "      <th></th>\n",
       "      <th>year</th>\n",
       "      <th>month</th>\n",
       "      <th>day</th>\n",
       "      <th>rainfall amount (millimetres)</th>\n",
       "      <th>quality</th>\n",
       "      <th>date</th>\n",
       "    </tr>\n",
       "    <tr>\n",
       "      <th>date</th>\n",
       "      <th></th>\n",
       "      <th></th>\n",
       "      <th></th>\n",
       "      <th></th>\n",
       "      <th></th>\n",
       "      <th></th>\n",
       "    </tr>\n",
       "  </thead>\n",
       "  <tbody>\n",
       "    <tr>\n",
       "      <th>2013-01-01</th>\n",
       "      <td>2013</td>\n",
       "      <td>1</td>\n",
       "      <td>1</td>\n",
       "      <td>NaN</td>\n",
       "      <td>NaN</td>\n",
       "      <td>2013-01-01</td>\n",
       "    </tr>\n",
       "    <tr>\n",
       "      <th>2013-01-02</th>\n",
       "      <td>2013</td>\n",
       "      <td>1</td>\n",
       "      <td>2</td>\n",
       "      <td>NaN</td>\n",
       "      <td>NaN</td>\n",
       "      <td>2013-01-02</td>\n",
       "    </tr>\n",
       "  </tbody>\n",
       "</table>\n",
       "</div>"
      ],
      "text/plain": [
       "            year  month  day  rainfall amount (millimetres) quality       date\n",
       "date                                                                          \n",
       "2013-01-01  2013      1    1                            NaN     NaN 2013-01-01\n",
       "2013-01-02  2013      1    2                            NaN     NaN 2013-01-02"
      ]
     },
     "execution_count": 5,
     "metadata": {},
     "output_type": "execute_result"
    }
   ],
   "source": [
    "rainfall['date']=pd.to_datetime(rainfall[['year','month','day']])\n",
    "rainfall.index= rainfall['date'] # set index as well.\n",
    "rainfall.head(2)"
   ]
  },
  {
   "cell_type": "markdown",
   "metadata": {},
   "source": [
    "## Max Temp EDA"
   ]
  },
  {
   "cell_type": "markdown",
   "metadata": {},
   "source": [
    "Lowercase column names for simplicity"
   ]
  },
  {
   "cell_type": "code",
   "execution_count": 6,
   "metadata": {},
   "outputs": [
    {
     "data": {
      "text/plain": [
       "['bureau of meteorology station number',\n",
       " 'year',\n",
       " 'month',\n",
       " 'day',\n",
       " 'maximum temperature (degree c)',\n",
       " 'days of accumulation of maximum temperature',\n",
       " 'quality']"
      ]
     },
     "execution_count": 6,
     "metadata": {},
     "output_type": "execute_result"
    }
   ],
   "source": [
    "max_temps.columns = map(str.lower, max_temps.columns)\n",
    "list(max_temps.columns)"
   ]
  },
  {
   "cell_type": "markdown",
   "metadata": {},
   "source": [
    "Remove columns with a single value"
   ]
  },
  {
   "cell_type": "code",
   "execution_count": 7,
   "metadata": {},
   "outputs": [
    {
     "name": "stdout",
     "output_type": "stream",
     "text": [
      "bureau of meteorology station number has 1 unique values\n",
      "year has 8 unique values\n",
      "month has 12 unique values\n",
      "day has 31 unique values\n",
      "maximum temperature (degree c) has 294 unique values\n",
      "days of accumulation of maximum temperature has 1 unique values\n",
      "quality has 2 unique values\n"
     ]
    },
    {
     "data": {
      "text/html": [
       "<div>\n",
       "<style scoped>\n",
       "    .dataframe tbody tr th:only-of-type {\n",
       "        vertical-align: middle;\n",
       "    }\n",
       "\n",
       "    .dataframe tbody tr th {\n",
       "        vertical-align: top;\n",
       "    }\n",
       "\n",
       "    .dataframe thead th {\n",
       "        text-align: right;\n",
       "    }\n",
       "</style>\n",
       "<table border=\"1\" class=\"dataframe\">\n",
       "  <thead>\n",
       "    <tr style=\"text-align: right;\">\n",
       "      <th></th>\n",
       "      <th>year</th>\n",
       "      <th>month</th>\n",
       "      <th>day</th>\n",
       "      <th>maximum temperature (degree c)</th>\n",
       "      <th>quality</th>\n",
       "    </tr>\n",
       "    <tr>\n",
       "      <th>Product code</th>\n",
       "      <th></th>\n",
       "      <th></th>\n",
       "      <th></th>\n",
       "      <th></th>\n",
       "      <th></th>\n",
       "    </tr>\n",
       "  </thead>\n",
       "  <tbody>\n",
       "    <tr>\n",
       "      <th>IDCJAC0010</th>\n",
       "      <td>2013</td>\n",
       "      <td>1</td>\n",
       "      <td>1</td>\n",
       "      <td>NaN</td>\n",
       "      <td>NaN</td>\n",
       "    </tr>\n",
       "    <tr>\n",
       "      <th>IDCJAC0010</th>\n",
       "      <td>2013</td>\n",
       "      <td>1</td>\n",
       "      <td>2</td>\n",
       "      <td>NaN</td>\n",
       "      <td>NaN</td>\n",
       "    </tr>\n",
       "  </tbody>\n",
       "</table>\n",
       "</div>"
      ],
      "text/plain": [
       "              year  month  day  maximum temperature (degree c) quality\n",
       "Product code                                                          \n",
       "IDCJAC0010    2013      1    1                             NaN     NaN\n",
       "IDCJAC0010    2013      1    2                             NaN     NaN"
      ]
     },
     "execution_count": 7,
     "metadata": {},
     "output_type": "execute_result"
    }
   ],
   "source": [
    "for column in max_temps.columns:\n",
    "    print(f'{column} has {max_temps[column].nunique()} unique values')\n",
    "max_temps.drop(['bureau of meteorology station number','days of accumulation of maximum temperature'],axis=1,inplace=True)\n",
    "max_temps.head(2)"
   ]
  },
  {
   "cell_type": "markdown",
   "metadata": {},
   "source": [
    "Seperate dates are useful but also cumbersome for filtering. Merging dates into 1 column."
   ]
  },
  {
   "cell_type": "code",
   "execution_count": 8,
   "metadata": {},
   "outputs": [
    {
     "data": {
      "text/html": [
       "<div>\n",
       "<style scoped>\n",
       "    .dataframe tbody tr th:only-of-type {\n",
       "        vertical-align: middle;\n",
       "    }\n",
       "\n",
       "    .dataframe tbody tr th {\n",
       "        vertical-align: top;\n",
       "    }\n",
       "\n",
       "    .dataframe thead th {\n",
       "        text-align: right;\n",
       "    }\n",
       "</style>\n",
       "<table border=\"1\" class=\"dataframe\">\n",
       "  <thead>\n",
       "    <tr style=\"text-align: right;\">\n",
       "      <th></th>\n",
       "      <th>year</th>\n",
       "      <th>month</th>\n",
       "      <th>day</th>\n",
       "      <th>maximum temperature (degree c)</th>\n",
       "      <th>quality</th>\n",
       "      <th>date</th>\n",
       "    </tr>\n",
       "    <tr>\n",
       "      <th>date</th>\n",
       "      <th></th>\n",
       "      <th></th>\n",
       "      <th></th>\n",
       "      <th></th>\n",
       "      <th></th>\n",
       "      <th></th>\n",
       "    </tr>\n",
       "  </thead>\n",
       "  <tbody>\n",
       "    <tr>\n",
       "      <th>2013-01-01</th>\n",
       "      <td>2013</td>\n",
       "      <td>1</td>\n",
       "      <td>1</td>\n",
       "      <td>NaN</td>\n",
       "      <td>NaN</td>\n",
       "      <td>2013-01-01</td>\n",
       "    </tr>\n",
       "    <tr>\n",
       "      <th>2013-01-02</th>\n",
       "      <td>2013</td>\n",
       "      <td>1</td>\n",
       "      <td>2</td>\n",
       "      <td>NaN</td>\n",
       "      <td>NaN</td>\n",
       "      <td>2013-01-02</td>\n",
       "    </tr>\n",
       "  </tbody>\n",
       "</table>\n",
       "</div>"
      ],
      "text/plain": [
       "            year  month  day  maximum temperature (degree c) quality  \\\n",
       "date                                                                   \n",
       "2013-01-01  2013      1    1                             NaN     NaN   \n",
       "2013-01-02  2013      1    2                             NaN     NaN   \n",
       "\n",
       "                 date  \n",
       "date                   \n",
       "2013-01-01 2013-01-01  \n",
       "2013-01-02 2013-01-02  "
      ]
     },
     "execution_count": 8,
     "metadata": {},
     "output_type": "execute_result"
    }
   ],
   "source": [
    "max_temps['date'] = pd.to_datetime(max_temps[['year','month','day']])\n",
    "max_temps.index = max_temps['date'] # set index as well.\n",
    "max_temps.head(2)"
   ]
  },
  {
   "cell_type": "markdown",
   "metadata": {},
   "source": [
    "## Min Temp EDA"
   ]
  },
  {
   "cell_type": "markdown",
   "metadata": {},
   "source": [
    "Lowercase column names for simplicity"
   ]
  },
  {
   "cell_type": "code",
   "execution_count": 9,
   "metadata": {},
   "outputs": [
    {
     "data": {
      "text/plain": [
       "['bureau of meteorology station number',\n",
       " 'year',\n",
       " 'month',\n",
       " 'day',\n",
       " 'minimum temperature (degree c)',\n",
       " 'days of accumulation of minimum temperature',\n",
       " 'quality']"
      ]
     },
     "execution_count": 9,
     "metadata": {},
     "output_type": "execute_result"
    }
   ],
   "source": [
    "min_temps.columns = map(str.lower, min_temps.columns)\n",
    "list(min_temps.columns)"
   ]
  },
  {
   "cell_type": "markdown",
   "metadata": {},
   "source": [
    "Remove columns with a single value"
   ]
  },
  {
   "cell_type": "code",
   "execution_count": 10,
   "metadata": {},
   "outputs": [
    {
     "name": "stdout",
     "output_type": "stream",
     "text": [
      "bureau of meteorology station number has 1 unique values\n",
      "year has 8 unique values\n",
      "month has 12 unique values\n",
      "day has 31 unique values\n",
      "minimum temperature (degree c) has 223 unique values\n",
      "days of accumulation of minimum temperature has 1 unique values\n",
      "quality has 2 unique values\n"
     ]
    },
    {
     "data": {
      "text/html": [
       "<div>\n",
       "<style scoped>\n",
       "    .dataframe tbody tr th:only-of-type {\n",
       "        vertical-align: middle;\n",
       "    }\n",
       "\n",
       "    .dataframe tbody tr th {\n",
       "        vertical-align: top;\n",
       "    }\n",
       "\n",
       "    .dataframe thead th {\n",
       "        text-align: right;\n",
       "    }\n",
       "</style>\n",
       "<table border=\"1\" class=\"dataframe\">\n",
       "  <thead>\n",
       "    <tr style=\"text-align: right;\">\n",
       "      <th></th>\n",
       "      <th>year</th>\n",
       "      <th>month</th>\n",
       "      <th>day</th>\n",
       "      <th>minimum temperature (degree c)</th>\n",
       "      <th>quality</th>\n",
       "    </tr>\n",
       "    <tr>\n",
       "      <th>Product code</th>\n",
       "      <th></th>\n",
       "      <th></th>\n",
       "      <th></th>\n",
       "      <th></th>\n",
       "      <th></th>\n",
       "    </tr>\n",
       "  </thead>\n",
       "  <tbody>\n",
       "    <tr>\n",
       "      <th>IDCJAC0011</th>\n",
       "      <td>2013</td>\n",
       "      <td>1</td>\n",
       "      <td>1</td>\n",
       "      <td>NaN</td>\n",
       "      <td>NaN</td>\n",
       "    </tr>\n",
       "    <tr>\n",
       "      <th>IDCJAC0011</th>\n",
       "      <td>2013</td>\n",
       "      <td>1</td>\n",
       "      <td>2</td>\n",
       "      <td>NaN</td>\n",
       "      <td>NaN</td>\n",
       "    </tr>\n",
       "  </tbody>\n",
       "</table>\n",
       "</div>"
      ],
      "text/plain": [
       "              year  month  day  minimum temperature (degree c) quality\n",
       "Product code                                                          \n",
       "IDCJAC0011    2013      1    1                             NaN     NaN\n",
       "IDCJAC0011    2013      1    2                             NaN     NaN"
      ]
     },
     "execution_count": 10,
     "metadata": {},
     "output_type": "execute_result"
    }
   ],
   "source": [
    "for column in min_temps.columns:\n",
    "    print(f'{column} has {min_temps[column].nunique()} unique values')\n",
    "min_temps.drop(['bureau of meteorology station number','days of accumulation of minimum temperature'],axis=1,inplace=True)\n",
    "min_temps.head(2)"
   ]
  },
  {
   "cell_type": "markdown",
   "metadata": {},
   "source": [
    "Seperate dates are useful but also cumbersome for filtering. Merging dates into 1 column."
   ]
  },
  {
   "cell_type": "code",
   "execution_count": 11,
   "metadata": {},
   "outputs": [
    {
     "data": {
      "text/html": [
       "<div>\n",
       "<style scoped>\n",
       "    .dataframe tbody tr th:only-of-type {\n",
       "        vertical-align: middle;\n",
       "    }\n",
       "\n",
       "    .dataframe tbody tr th {\n",
       "        vertical-align: top;\n",
       "    }\n",
       "\n",
       "    .dataframe thead th {\n",
       "        text-align: right;\n",
       "    }\n",
       "</style>\n",
       "<table border=\"1\" class=\"dataframe\">\n",
       "  <thead>\n",
       "    <tr style=\"text-align: right;\">\n",
       "      <th></th>\n",
       "      <th>year</th>\n",
       "      <th>month</th>\n",
       "      <th>day</th>\n",
       "      <th>minimum temperature (degree c)</th>\n",
       "      <th>quality</th>\n",
       "      <th>date</th>\n",
       "    </tr>\n",
       "    <tr>\n",
       "      <th>date</th>\n",
       "      <th></th>\n",
       "      <th></th>\n",
       "      <th></th>\n",
       "      <th></th>\n",
       "      <th></th>\n",
       "      <th></th>\n",
       "    </tr>\n",
       "  </thead>\n",
       "  <tbody>\n",
       "    <tr>\n",
       "      <th>2013-01-01</th>\n",
       "      <td>2013</td>\n",
       "      <td>1</td>\n",
       "      <td>1</td>\n",
       "      <td>NaN</td>\n",
       "      <td>NaN</td>\n",
       "      <td>2013-01-01</td>\n",
       "    </tr>\n",
       "    <tr>\n",
       "      <th>2013-01-02</th>\n",
       "      <td>2013</td>\n",
       "      <td>1</td>\n",
       "      <td>2</td>\n",
       "      <td>NaN</td>\n",
       "      <td>NaN</td>\n",
       "      <td>2013-01-02</td>\n",
       "    </tr>\n",
       "  </tbody>\n",
       "</table>\n",
       "</div>"
      ],
      "text/plain": [
       "            year  month  day  minimum temperature (degree c) quality  \\\n",
       "date                                                                   \n",
       "2013-01-01  2013      1    1                             NaN     NaN   \n",
       "2013-01-02  2013      1    2                             NaN     NaN   \n",
       "\n",
       "                 date  \n",
       "date                   \n",
       "2013-01-01 2013-01-01  \n",
       "2013-01-02 2013-01-02  "
      ]
     },
     "execution_count": 11,
     "metadata": {},
     "output_type": "execute_result"
    }
   ],
   "source": [
    "min_temps['date'] = pd.to_datetime(min_temps[['year','month','day']])\n",
    "min_temps.index = min_temps['date'] # set index as well.\n",
    "min_temps.head(2)"
   ]
  },
  {
   "cell_type": "markdown",
   "metadata": {},
   "source": [
    "## Solar Exposure EDA"
   ]
  },
  {
   "cell_type": "markdown",
   "metadata": {},
   "source": [
    "Lowercase column names for simplicity"
   ]
  },
  {
   "cell_type": "code",
   "execution_count": 12,
   "metadata": {},
   "outputs": [
    {
     "data": {
      "text/plain": [
       "['bureau of meteorology station number',\n",
       " 'year',\n",
       " 'month',\n",
       " 'day',\n",
       " 'daily global solar exposure (mj/m*m)']"
      ]
     },
     "execution_count": 12,
     "metadata": {},
     "output_type": "execute_result"
    }
   ],
   "source": [
    "solar_exposure.columns = map(str.lower, solar_exposure.columns)\n",
    "list(solar_exposure.columns)"
   ]
  },
  {
   "cell_type": "markdown",
   "metadata": {},
   "source": [
    "Remove columns with a single value"
   ]
  },
  {
   "cell_type": "code",
   "execution_count": 13,
   "metadata": {},
   "outputs": [
    {
     "name": "stdout",
     "output_type": "stream",
     "text": [
      "bureau of meteorology station number has 1 unique values\n",
      "year has 31 unique values\n",
      "month has 12 unique values\n",
      "day has 31 unique values\n",
      "daily global solar exposure (mj/m*m) has 354 unique values\n"
     ]
    },
    {
     "data": {
      "text/html": [
       "<div>\n",
       "<style scoped>\n",
       "    .dataframe tbody tr th:only-of-type {\n",
       "        vertical-align: middle;\n",
       "    }\n",
       "\n",
       "    .dataframe tbody tr th {\n",
       "        vertical-align: top;\n",
       "    }\n",
       "\n",
       "    .dataframe thead th {\n",
       "        text-align: right;\n",
       "    }\n",
       "</style>\n",
       "<table border=\"1\" class=\"dataframe\">\n",
       "  <thead>\n",
       "    <tr style=\"text-align: right;\">\n",
       "      <th></th>\n",
       "      <th>year</th>\n",
       "      <th>month</th>\n",
       "      <th>day</th>\n",
       "      <th>daily global solar exposure (mj/m*m)</th>\n",
       "    </tr>\n",
       "    <tr>\n",
       "      <th>Product code</th>\n",
       "      <th></th>\n",
       "      <th></th>\n",
       "      <th></th>\n",
       "      <th></th>\n",
       "    </tr>\n",
       "  </thead>\n",
       "  <tbody>\n",
       "    <tr>\n",
       "      <th>IDCJAC0016</th>\n",
       "      <td>1990</td>\n",
       "      <td>1</td>\n",
       "      <td>1</td>\n",
       "      <td>32.4</td>\n",
       "    </tr>\n",
       "    <tr>\n",
       "      <th>IDCJAC0016</th>\n",
       "      <td>1990</td>\n",
       "      <td>1</td>\n",
       "      <td>2</td>\n",
       "      <td>31.1</td>\n",
       "    </tr>\n",
       "  </tbody>\n",
       "</table>\n",
       "</div>"
      ],
      "text/plain": [
       "              year  month  day  daily global solar exposure (mj/m*m)\n",
       "Product code                                                        \n",
       "IDCJAC0016    1990      1    1                                  32.4\n",
       "IDCJAC0016    1990      1    2                                  31.1"
      ]
     },
     "execution_count": 13,
     "metadata": {},
     "output_type": "execute_result"
    }
   ],
   "source": [
    "for column in solar_exposure.columns:\n",
    "    print(f'{column} has {solar_exposure[column].nunique()} unique values')\n",
    "solar_exposure.drop(['bureau of meteorology station number'],axis=1,inplace=True)\n",
    "solar_exposure.head(2)"
   ]
  },
  {
   "cell_type": "markdown",
   "metadata": {},
   "source": [
    "Seperate dates are useful but also cumbersome for filtering. Merging dates into 1 column."
   ]
  },
  {
   "cell_type": "code",
   "execution_count": 14,
   "metadata": {},
   "outputs": [
    {
     "data": {
      "text/html": [
       "<div>\n",
       "<style scoped>\n",
       "    .dataframe tbody tr th:only-of-type {\n",
       "        vertical-align: middle;\n",
       "    }\n",
       "\n",
       "    .dataframe tbody tr th {\n",
       "        vertical-align: top;\n",
       "    }\n",
       "\n",
       "    .dataframe thead th {\n",
       "        text-align: right;\n",
       "    }\n",
       "</style>\n",
       "<table border=\"1\" class=\"dataframe\">\n",
       "  <thead>\n",
       "    <tr style=\"text-align: right;\">\n",
       "      <th></th>\n",
       "      <th>year</th>\n",
       "      <th>month</th>\n",
       "      <th>day</th>\n",
       "      <th>daily global solar exposure (mj/m*m)</th>\n",
       "      <th>date</th>\n",
       "    </tr>\n",
       "    <tr>\n",
       "      <th>date</th>\n",
       "      <th></th>\n",
       "      <th></th>\n",
       "      <th></th>\n",
       "      <th></th>\n",
       "      <th></th>\n",
       "    </tr>\n",
       "  </thead>\n",
       "  <tbody>\n",
       "    <tr>\n",
       "      <th>1990-01-01</th>\n",
       "      <td>1990</td>\n",
       "      <td>1</td>\n",
       "      <td>1</td>\n",
       "      <td>32.4</td>\n",
       "      <td>1990-01-01</td>\n",
       "    </tr>\n",
       "    <tr>\n",
       "      <th>1990-01-02</th>\n",
       "      <td>1990</td>\n",
       "      <td>1</td>\n",
       "      <td>2</td>\n",
       "      <td>31.1</td>\n",
       "      <td>1990-01-02</td>\n",
       "    </tr>\n",
       "  </tbody>\n",
       "</table>\n",
       "</div>"
      ],
      "text/plain": [
       "            year  month  day  daily global solar exposure (mj/m*m)       date\n",
       "date                                                                         \n",
       "1990-01-01  1990      1    1                                  32.4 1990-01-01\n",
       "1990-01-02  1990      1    2                                  31.1 1990-01-02"
      ]
     },
     "execution_count": 14,
     "metadata": {},
     "output_type": "execute_result"
    }
   ],
   "source": [
    "solar_exposure['date'] = pd.to_datetime(solar_exposure[['year','month','day']])\n",
    "solar_exposure.index = solar_exposure['date'] # set index as well.\n",
    "solar_exposure.head(2)"
   ]
  },
  {
   "cell_type": "markdown",
   "metadata": {},
   "source": [
    "### EDA done, check the shape of the files"
   ]
  },
  {
   "cell_type": "code",
   "execution_count": 15,
   "metadata": {},
   "outputs": [
    {
     "name": "stdout",
     "output_type": "stream",
     "text": [
      "Shape of Rainfall:\t\t(2839, 6)\n",
      "Shape of Max Temps:\t\t(2838, 6)\n",
      "Shape of Solar Exposure:\t(11239, 5)\n"
     ]
    }
   ],
   "source": [
    "print(f'Shape of Rainfall:\t\t{rainfall.shape}')\n",
    "print(f'Shape of Max Temps:\t\t{max_temps.shape}')\n",
    "print(f'Shape of Solar Exposure:\t{solar_exposure.shape}')"
   ]
  },
  {
   "cell_type": "markdown",
   "metadata": {},
   "source": [
    "### Solar Exposure has the largest range of date index's, so we'll use that as a our base file."
   ]
  },
  {
   "cell_type": "code",
   "execution_count": 16,
   "metadata": {},
   "outputs": [],
   "source": [
    "weather = pd.merge(solar_exposure, max_temps, how='left', left_index=True, right_index=True, suffixes=('_se', '_maxt'))"
   ]
  },
  {
   "cell_type": "code",
   "execution_count": 17,
   "metadata": {},
   "outputs": [],
   "source": [
    "weather = pd.merge(weather, min_temps, how='left', left_index=True, right_index=True, suffixes=('_maxt', '_mint'))"
   ]
  },
  {
   "cell_type": "code",
   "execution_count": 18,
   "metadata": {},
   "outputs": [],
   "source": [
    "weather = pd.merge(weather, rainfall, how='left', left_index=True, right_index=True, suffixes=('_w', '_rf'))"
   ]
  },
  {
   "cell_type": "code",
   "execution_count": 19,
   "metadata": {},
   "outputs": [
    {
     "name": "stdout",
     "output_type": "stream",
     "text": [
      "<class 'pandas.core.frame.DataFrame'>\n",
      "DatetimeIndex: 11239 entries, 1990-01-01 to 2020-10-08\n",
      "Data columns (total 23 columns):\n",
      " #   Column                                Non-Null Count  Dtype         \n",
      "---  ------                                --------------  -----         \n",
      " 0   year_se                               11239 non-null  int64         \n",
      " 1   month_se                              11239 non-null  int64         \n",
      " 2   day_se                                11239 non-null  int64         \n",
      " 3   daily global solar exposure (mj/m*m)  10763 non-null  float64       \n",
      " 4   date_se                               11239 non-null  datetime64[ns]\n",
      " 5   year_maxt                             2838 non-null   float64       \n",
      " 6   month_maxt                            2838 non-null   float64       \n",
      " 7   day_maxt                              2838 non-null   float64       \n",
      " 8   maximum temperature (degree c)        2687 non-null   float64       \n",
      " 9   quality_maxt                          2686 non-null   object        \n",
      " 10  date_maxt                             2838 non-null   datetime64[ns]\n",
      " 11  year_w                                2838 non-null   float64       \n",
      " 12  month_w                               2838 non-null   float64       \n",
      " 13  day_w                                 2838 non-null   float64       \n",
      " 14  minimum temperature (degree c)        2686 non-null   float64       \n",
      " 15  quality_mint                          2686 non-null   object        \n",
      " 16  date_w                                2838 non-null   datetime64[ns]\n",
      " 17  year_rf                               2838 non-null   float64       \n",
      " 18  month_rf                              2838 non-null   float64       \n",
      " 19  day_rf                                2838 non-null   float64       \n",
      " 20  rainfall amount (millimetres)         2683 non-null   float64       \n",
      " 21  quality                               2683 non-null   object        \n",
      " 22  date_rf                               2838 non-null   datetime64[ns]\n",
      "dtypes: datetime64[ns](4), float64(13), int64(3), object(3)\n",
      "memory usage: 2.4+ MB\n"
     ]
    }
   ],
   "source": [
    "weather.info()"
   ]
  },
  {
   "cell_type": "markdown",
   "metadata": {},
   "source": [
    "Clean up the file and remove redundant columns."
   ]
  },
  {
   "cell_type": "code",
   "execution_count": 20,
   "metadata": {},
   "outputs": [
    {
     "data": {
      "text/plain": [
       "Index(['year_se', 'month_se', 'day_se', 'daily global solar exposure (mj/m*m)',\n",
       "       'date_se', 'year_maxt', 'month_maxt', 'day_maxt',\n",
       "       'maximum temperature (degree c)', 'quality_maxt', 'date_maxt', 'year_w',\n",
       "       'month_w', 'day_w', 'minimum temperature (degree c)', 'quality_mint',\n",
       "       'date_w', 'year_rf', 'month_rf', 'day_rf',\n",
       "       'rainfall amount (millimetres)', 'quality', 'date_rf'],\n",
       "      dtype='object')"
      ]
     },
     "execution_count": 20,
     "metadata": {},
     "output_type": "execute_result"
    }
   ],
   "source": [
    "weather.columns"
   ]
  },
  {
   "cell_type": "code",
   "execution_count": 21,
   "metadata": {},
   "outputs": [],
   "source": [
    "weather = weather[['rainfall amount (millimetres)', 'quality', 'minimum temperature (degree c)', 'quality_mint',  'maximum temperature (degree c)', 'quality_maxt', 'daily global solar exposure (mj/m*m)']]"
   ]
  },
  {
   "cell_type": "code",
   "execution_count": 22,
   "metadata": {},
   "outputs": [
    {
     "name": "stdout",
     "output_type": "stream",
     "text": [
      "<class 'pandas.core.frame.DataFrame'>\n",
      "DatetimeIndex: 11239 entries, 1990-01-01 to 2020-10-08\n",
      "Data columns (total 7 columns):\n",
      " #   Column                                Non-Null Count  Dtype  \n",
      "---  ------                                --------------  -----  \n",
      " 0   rainfall amount (millimetres)         2683 non-null   float64\n",
      " 1   quality                               2683 non-null   object \n",
      " 2   minimum temperature (degree c)        2686 non-null   float64\n",
      " 3   quality_mint                          2686 non-null   object \n",
      " 4   maximum temperature (degree c)        2687 non-null   float64\n",
      " 5   quality_maxt                          2686 non-null   object \n",
      " 6   daily global solar exposure (mj/m*m)  10763 non-null  float64\n",
      "dtypes: float64(4), object(3)\n",
      "memory usage: 1022.4+ KB\n"
     ]
    },
    {
     "data": {
      "text/html": [
       "<div>\n",
       "<style scoped>\n",
       "    .dataframe tbody tr th:only-of-type {\n",
       "        vertical-align: middle;\n",
       "    }\n",
       "\n",
       "    .dataframe tbody tr th {\n",
       "        vertical-align: top;\n",
       "    }\n",
       "\n",
       "    .dataframe thead th {\n",
       "        text-align: right;\n",
       "    }\n",
       "</style>\n",
       "<table border=\"1\" class=\"dataframe\">\n",
       "  <thead>\n",
       "    <tr style=\"text-align: right;\">\n",
       "      <th></th>\n",
       "      <th>rainfall amount (millimetres)</th>\n",
       "      <th>quality</th>\n",
       "      <th>minimum temperature (degree c)</th>\n",
       "      <th>quality_mint</th>\n",
       "      <th>maximum temperature (degree c)</th>\n",
       "      <th>quality_maxt</th>\n",
       "      <th>daily global solar exposure (mj/m*m)</th>\n",
       "    </tr>\n",
       "    <tr>\n",
       "      <th>date</th>\n",
       "      <th></th>\n",
       "      <th></th>\n",
       "      <th></th>\n",
       "      <th></th>\n",
       "      <th></th>\n",
       "      <th></th>\n",
       "      <th></th>\n",
       "    </tr>\n",
       "  </thead>\n",
       "  <tbody>\n",
       "    <tr>\n",
       "      <th>1990-01-01</th>\n",
       "      <td>NaN</td>\n",
       "      <td>NaN</td>\n",
       "      <td>NaN</td>\n",
       "      <td>NaN</td>\n",
       "      <td>NaN</td>\n",
       "      <td>NaN</td>\n",
       "      <td>32.4</td>\n",
       "    </tr>\n",
       "    <tr>\n",
       "      <th>1990-01-02</th>\n",
       "      <td>NaN</td>\n",
       "      <td>NaN</td>\n",
       "      <td>NaN</td>\n",
       "      <td>NaN</td>\n",
       "      <td>NaN</td>\n",
       "      <td>NaN</td>\n",
       "      <td>31.1</td>\n",
       "    </tr>\n",
       "    <tr>\n",
       "      <th>1990-01-03</th>\n",
       "      <td>NaN</td>\n",
       "      <td>NaN</td>\n",
       "      <td>NaN</td>\n",
       "      <td>NaN</td>\n",
       "      <td>NaN</td>\n",
       "      <td>NaN</td>\n",
       "      <td>NaN</td>\n",
       "    </tr>\n",
       "    <tr>\n",
       "      <th>1990-01-04</th>\n",
       "      <td>NaN</td>\n",
       "      <td>NaN</td>\n",
       "      <td>NaN</td>\n",
       "      <td>NaN</td>\n",
       "      <td>NaN</td>\n",
       "      <td>NaN</td>\n",
       "      <td>30.8</td>\n",
       "    </tr>\n",
       "    <tr>\n",
       "      <th>1990-01-05</th>\n",
       "      <td>NaN</td>\n",
       "      <td>NaN</td>\n",
       "      <td>NaN</td>\n",
       "      <td>NaN</td>\n",
       "      <td>NaN</td>\n",
       "      <td>NaN</td>\n",
       "      <td>30.1</td>\n",
       "    </tr>\n",
       "    <tr>\n",
       "      <th>2020-10-04</th>\n",
       "      <td>0.0</td>\n",
       "      <td>N</td>\n",
       "      <td>13.5</td>\n",
       "      <td>N</td>\n",
       "      <td>29.5</td>\n",
       "      <td>N</td>\n",
       "      <td>8.4</td>\n",
       "    </tr>\n",
       "    <tr>\n",
       "      <th>2020-10-05</th>\n",
       "      <td>12.8</td>\n",
       "      <td>N</td>\n",
       "      <td>9.1</td>\n",
       "      <td>N</td>\n",
       "      <td>12.7</td>\n",
       "      <td>N</td>\n",
       "      <td>7.3</td>\n",
       "    </tr>\n",
       "    <tr>\n",
       "      <th>2020-10-06</th>\n",
       "      <td>1.0</td>\n",
       "      <td>N</td>\n",
       "      <td>8.9</td>\n",
       "      <td>N</td>\n",
       "      <td>12.6</td>\n",
       "      <td>N</td>\n",
       "      <td>5.8</td>\n",
       "    </tr>\n",
       "    <tr>\n",
       "      <th>2020-10-07</th>\n",
       "      <td>3.2</td>\n",
       "      <td>N</td>\n",
       "      <td>10.1</td>\n",
       "      <td>N</td>\n",
       "      <td>17.2</td>\n",
       "      <td>N</td>\n",
       "      <td>8.6</td>\n",
       "    </tr>\n",
       "    <tr>\n",
       "      <th>2020-10-08</th>\n",
       "      <td>5.4</td>\n",
       "      <td>N</td>\n",
       "      <td>11.4</td>\n",
       "      <td>N</td>\n",
       "      <td>16.9</td>\n",
       "      <td>N</td>\n",
       "      <td>9.7</td>\n",
       "    </tr>\n",
       "  </tbody>\n",
       "</table>\n",
       "</div>"
      ],
      "text/plain": [
       "            rainfall amount (millimetres) quality  \\\n",
       "date                                                \n",
       "1990-01-01                            NaN     NaN   \n",
       "1990-01-02                            NaN     NaN   \n",
       "1990-01-03                            NaN     NaN   \n",
       "1990-01-04                            NaN     NaN   \n",
       "1990-01-05                            NaN     NaN   \n",
       "2020-10-04                            0.0       N   \n",
       "2020-10-05                           12.8       N   \n",
       "2020-10-06                            1.0       N   \n",
       "2020-10-07                            3.2       N   \n",
       "2020-10-08                            5.4       N   \n",
       "\n",
       "            minimum temperature (degree c) quality_mint  \\\n",
       "date                                                      \n",
       "1990-01-01                             NaN          NaN   \n",
       "1990-01-02                             NaN          NaN   \n",
       "1990-01-03                             NaN          NaN   \n",
       "1990-01-04                             NaN          NaN   \n",
       "1990-01-05                             NaN          NaN   \n",
       "2020-10-04                            13.5            N   \n",
       "2020-10-05                             9.1            N   \n",
       "2020-10-06                             8.9            N   \n",
       "2020-10-07                            10.1            N   \n",
       "2020-10-08                            11.4            N   \n",
       "\n",
       "            maximum temperature (degree c) quality_maxt  \\\n",
       "date                                                      \n",
       "1990-01-01                             NaN          NaN   \n",
       "1990-01-02                             NaN          NaN   \n",
       "1990-01-03                             NaN          NaN   \n",
       "1990-01-04                             NaN          NaN   \n",
       "1990-01-05                             NaN          NaN   \n",
       "2020-10-04                            29.5            N   \n",
       "2020-10-05                            12.7            N   \n",
       "2020-10-06                            12.6            N   \n",
       "2020-10-07                            17.2            N   \n",
       "2020-10-08                            16.9            N   \n",
       "\n",
       "            daily global solar exposure (mj/m*m)  \n",
       "date                                              \n",
       "1990-01-01                                  32.4  \n",
       "1990-01-02                                  31.1  \n",
       "1990-01-03                                   NaN  \n",
       "1990-01-04                                  30.8  \n",
       "1990-01-05                                  30.1  \n",
       "2020-10-04                                   8.4  \n",
       "2020-10-05                                   7.3  \n",
       "2020-10-06                                   5.8  \n",
       "2020-10-07                                   8.6  \n",
       "2020-10-08                                   9.7  "
      ]
     },
     "execution_count": 22,
     "metadata": {},
     "output_type": "execute_result"
    }
   ],
   "source": [
    "weather.info()\n",
    "weather.head().append(weather.tail())"
   ]
  },
  {
   "cell_type": "markdown",
   "metadata": {},
   "source": [
    "We have Y/N columns that can be binarized, but NaN's must be respected"
   ]
  },
  {
   "cell_type": "code",
   "execution_count": 23,
   "metadata": {},
   "outputs": [
    {
     "data": {
      "text/html": [
       "<div>\n",
       "<style scoped>\n",
       "    .dataframe tbody tr th:only-of-type {\n",
       "        vertical-align: middle;\n",
       "    }\n",
       "\n",
       "    .dataframe tbody tr th {\n",
       "        vertical-align: top;\n",
       "    }\n",
       "\n",
       "    .dataframe thead th {\n",
       "        text-align: right;\n",
       "    }\n",
       "</style>\n",
       "<table border=\"1\" class=\"dataframe\">\n",
       "  <thead>\n",
       "    <tr style=\"text-align: right;\">\n",
       "      <th></th>\n",
       "      <th>rainfall amount (millimetres)</th>\n",
       "      <th>quality_rf</th>\n",
       "      <th>minimum temperature (degree c)</th>\n",
       "      <th>quality_mint</th>\n",
       "      <th>maximum temperature (degree c)</th>\n",
       "      <th>quality_maxt</th>\n",
       "      <th>daily global solar exposure (mj/m*m)</th>\n",
       "    </tr>\n",
       "    <tr>\n",
       "      <th>date</th>\n",
       "      <th></th>\n",
       "      <th></th>\n",
       "      <th></th>\n",
       "      <th></th>\n",
       "      <th></th>\n",
       "      <th></th>\n",
       "      <th></th>\n",
       "    </tr>\n",
       "  </thead>\n",
       "  <tbody>\n",
       "    <tr>\n",
       "      <th>1990-01-01</th>\n",
       "      <td>NaN</td>\n",
       "      <td>NaN</td>\n",
       "      <td>NaN</td>\n",
       "      <td>NaN</td>\n",
       "      <td>NaN</td>\n",
       "      <td>NaN</td>\n",
       "      <td>32.4</td>\n",
       "    </tr>\n",
       "    <tr>\n",
       "      <th>1990-01-02</th>\n",
       "      <td>NaN</td>\n",
       "      <td>NaN</td>\n",
       "      <td>NaN</td>\n",
       "      <td>NaN</td>\n",
       "      <td>NaN</td>\n",
       "      <td>NaN</td>\n",
       "      <td>31.1</td>\n",
       "    </tr>\n",
       "    <tr>\n",
       "      <th>1990-01-03</th>\n",
       "      <td>NaN</td>\n",
       "      <td>NaN</td>\n",
       "      <td>NaN</td>\n",
       "      <td>NaN</td>\n",
       "      <td>NaN</td>\n",
       "      <td>NaN</td>\n",
       "      <td>NaN</td>\n",
       "    </tr>\n",
       "    <tr>\n",
       "      <th>1990-01-04</th>\n",
       "      <td>NaN</td>\n",
       "      <td>NaN</td>\n",
       "      <td>NaN</td>\n",
       "      <td>NaN</td>\n",
       "      <td>NaN</td>\n",
       "      <td>NaN</td>\n",
       "      <td>30.8</td>\n",
       "    </tr>\n",
       "    <tr>\n",
       "      <th>1990-01-05</th>\n",
       "      <td>NaN</td>\n",
       "      <td>NaN</td>\n",
       "      <td>NaN</td>\n",
       "      <td>NaN</td>\n",
       "      <td>NaN</td>\n",
       "      <td>NaN</td>\n",
       "      <td>30.1</td>\n",
       "    </tr>\n",
       "    <tr>\n",
       "      <th>...</th>\n",
       "      <td>...</td>\n",
       "      <td>...</td>\n",
       "      <td>...</td>\n",
       "      <td>...</td>\n",
       "      <td>...</td>\n",
       "      <td>...</td>\n",
       "      <td>...</td>\n",
       "    </tr>\n",
       "    <tr>\n",
       "      <th>2020-10-04</th>\n",
       "      <td>0.0</td>\n",
       "      <td>0.0</td>\n",
       "      <td>13.5</td>\n",
       "      <td>0.0</td>\n",
       "      <td>29.5</td>\n",
       "      <td>0.0</td>\n",
       "      <td>8.4</td>\n",
       "    </tr>\n",
       "    <tr>\n",
       "      <th>2020-10-05</th>\n",
       "      <td>12.8</td>\n",
       "      <td>0.0</td>\n",
       "      <td>9.1</td>\n",
       "      <td>0.0</td>\n",
       "      <td>12.7</td>\n",
       "      <td>0.0</td>\n",
       "      <td>7.3</td>\n",
       "    </tr>\n",
       "    <tr>\n",
       "      <th>2020-10-06</th>\n",
       "      <td>1.0</td>\n",
       "      <td>0.0</td>\n",
       "      <td>8.9</td>\n",
       "      <td>0.0</td>\n",
       "      <td>12.6</td>\n",
       "      <td>0.0</td>\n",
       "      <td>5.8</td>\n",
       "    </tr>\n",
       "    <tr>\n",
       "      <th>2020-10-07</th>\n",
       "      <td>3.2</td>\n",
       "      <td>0.0</td>\n",
       "      <td>10.1</td>\n",
       "      <td>0.0</td>\n",
       "      <td>17.2</td>\n",
       "      <td>0.0</td>\n",
       "      <td>8.6</td>\n",
       "    </tr>\n",
       "    <tr>\n",
       "      <th>2020-10-08</th>\n",
       "      <td>5.4</td>\n",
       "      <td>0.0</td>\n",
       "      <td>11.4</td>\n",
       "      <td>0.0</td>\n",
       "      <td>16.9</td>\n",
       "      <td>0.0</td>\n",
       "      <td>9.7</td>\n",
       "    </tr>\n",
       "  </tbody>\n",
       "</table>\n",
       "<p>11239 rows × 7 columns</p>\n",
       "</div>"
      ],
      "text/plain": [
       "            rainfall amount (millimetres)  quality_rf  \\\n",
       "date                                                    \n",
       "1990-01-01                            NaN         NaN   \n",
       "1990-01-02                            NaN         NaN   \n",
       "1990-01-03                            NaN         NaN   \n",
       "1990-01-04                            NaN         NaN   \n",
       "1990-01-05                            NaN         NaN   \n",
       "...                                   ...         ...   \n",
       "2020-10-04                            0.0         0.0   \n",
       "2020-10-05                           12.8         0.0   \n",
       "2020-10-06                            1.0         0.0   \n",
       "2020-10-07                            3.2         0.0   \n",
       "2020-10-08                            5.4         0.0   \n",
       "\n",
       "            minimum temperature (degree c)  quality_mint  \\\n",
       "date                                                       \n",
       "1990-01-01                             NaN           NaN   \n",
       "1990-01-02                             NaN           NaN   \n",
       "1990-01-03                             NaN           NaN   \n",
       "1990-01-04                             NaN           NaN   \n",
       "1990-01-05                             NaN           NaN   \n",
       "...                                    ...           ...   \n",
       "2020-10-04                            13.5           0.0   \n",
       "2020-10-05                             9.1           0.0   \n",
       "2020-10-06                             8.9           0.0   \n",
       "2020-10-07                            10.1           0.0   \n",
       "2020-10-08                            11.4           0.0   \n",
       "\n",
       "            maximum temperature (degree c)  quality_maxt  \\\n",
       "date                                                       \n",
       "1990-01-01                             NaN           NaN   \n",
       "1990-01-02                             NaN           NaN   \n",
       "1990-01-03                             NaN           NaN   \n",
       "1990-01-04                             NaN           NaN   \n",
       "1990-01-05                             NaN           NaN   \n",
       "...                                    ...           ...   \n",
       "2020-10-04                            29.5           0.0   \n",
       "2020-10-05                            12.7           0.0   \n",
       "2020-10-06                            12.6           0.0   \n",
       "2020-10-07                            17.2           0.0   \n",
       "2020-10-08                            16.9           0.0   \n",
       "\n",
       "            daily global solar exposure (mj/m*m)  \n",
       "date                                              \n",
       "1990-01-01                                  32.4  \n",
       "1990-01-02                                  31.1  \n",
       "1990-01-03                                   NaN  \n",
       "1990-01-04                                  30.8  \n",
       "1990-01-05                                  30.1  \n",
       "...                                          ...  \n",
       "2020-10-04                                   8.4  \n",
       "2020-10-05                                   7.3  \n",
       "2020-10-06                                   5.8  \n",
       "2020-10-07                                   8.6  \n",
       "2020-10-08                                   9.7  \n",
       "\n",
       "[11239 rows x 7 columns]"
      ]
     },
     "execution_count": 23,
     "metadata": {},
     "output_type": "execute_result"
    }
   ],
   "source": [
    "weather.rename(columns={'quality':'quality_rf'}, inplace=True) # Rain quality needs an identifier\n",
    "weather['quality_rf'] = weather['quality_rf'].map(dict(Y=1, N=0))\n",
    "weather['quality_maxt'] = weather['quality_maxt'].map(dict(Y=1, N=0))\n",
    "weather['quality_mint'] = weather['quality_mint'].map(dict(Y=1, N=0))\n",
    "weather"
   ]
  },
  {
   "cell_type": "markdown",
   "metadata": {},
   "source": [
    "Double check "
   ]
  },
  {
   "cell_type": "code",
   "execution_count": 24,
   "metadata": {},
   "outputs": [
    {
     "name": "stdout",
     "output_type": "stream",
     "text": [
      "Qualtiy RF MINT and MAXT have 2/2, 2/2 and 2/2  unique values\n"
     ]
    }
   ],
   "source": [
    "print(f\"Qualtiy RF MINT and MAXT have {weather['quality_rf'].nunique()}/2, {weather['quality_mint'].nunique()}/2 and {weather['quality_maxt'].nunique()}/2  unique values\")"
   ]
  },
  {
   "cell_type": "markdown",
   "metadata": {},
   "source": [
    "Finally, we want to convert solar_exposure values to UV index values (max 40 vs max 12)"
   ]
  },
  {
   "cell_type": "code",
   "execution_count": 25,
   "metadata": {},
   "outputs": [],
   "source": [
    "weather['daily global solar exposure (mj/m*m)'] = [((i - 0) / (40 - 0)) * (12 - 0) + 0 for i in weather['daily global solar exposure (mj/m*m)']]"
   ]
  },
  {
   "cell_type": "code",
   "execution_count": 26,
   "metadata": {},
   "outputs": [
    {
     "name": "stdout",
     "output_type": "stream",
     "text": [
      "10.89\n"
     ]
    }
   ],
   "source": [
    "print(weather['daily global solar exposure (mj/m*m)'].max()) # Should not be more than 12."
   ]
  },
  {
   "cell_type": "markdown",
   "metadata": {},
   "source": [
    "### Define Cutoff Dates"
   ]
  },
  {
   "cell_type": "code",
   "execution_count": 27,
   "metadata": {},
   "outputs": [
    {
     "name": "stdout",
     "output_type": "stream",
     "text": [
      "First day in the data index is 1990-01-01 00:00:00.\n"
     ]
    },
    {
     "data": {
      "image/png": "[encoded data removed]",
      "text/plain": [
       "<Figure size 1296x288 with 1 Axes>"
      ]
     },
     "metadata": {
      "needs_background": "light"
     },
     "output_type": "display_data"
    }
   ],
   "source": [
    "print(f'First day in the data index is {weather.index[0]}.')\n",
    "weather.dropna().plot(figsize=(18,4));"
   ]
  },
  {
   "cell_type": "markdown",
   "metadata": {},
   "source": [
    "It appears that only from mid 2013 we have consistent data"
   ]
  },
  {
   "cell_type": "code",
   "execution_count": 28,
   "metadata": {},
   "outputs": [
    {
     "data": {
      "image/png": "[encoded data removed]",
      "text/plain": [
       "<Figure size 1296x288 with 1 Axes>"
      ]
     },
     "metadata": {
      "needs_background": "light"
     },
     "output_type": "display_data"
    }
   ],
   "source": [
    "weather['20130501':'20130630'].dropna().plot(figsize=(18,4));"
   ]
  },
  {
   "cell_type": "markdown",
   "metadata": {},
   "source": [
    "Data appears to start on the 2013-2-6   \n",
    "Removing all data before June 2nd 2013"
   ]
  },
  {
   "cell_type": "code",
   "execution_count": 29,
   "metadata": {},
   "outputs": [
    {
     "data": {
      "text/html": [
       "<div>\n",
       "<style scoped>\n",
       "    .dataframe tbody tr th:only-of-type {\n",
       "        vertical-align: middle;\n",
       "    }\n",
       "\n",
       "    .dataframe tbody tr th {\n",
       "        vertical-align: top;\n",
       "    }\n",
       "\n",
       "    .dataframe thead th {\n",
       "        text-align: right;\n",
       "    }\n",
       "</style>\n",
       "<table border=\"1\" class=\"dataframe\">\n",
       "  <thead>\n",
       "    <tr style=\"text-align: right;\">\n",
       "      <th></th>\n",
       "      <th>rainfall amount (millimetres)</th>\n",
       "      <th>quality_rf</th>\n",
       "      <th>minimum temperature (degree c)</th>\n",
       "      <th>quality_mint</th>\n",
       "      <th>maximum temperature (degree c)</th>\n",
       "      <th>quality_maxt</th>\n",
       "      <th>daily global solar exposure (mj/m*m)</th>\n",
       "    </tr>\n",
       "    <tr>\n",
       "      <th>date</th>\n",
       "      <th></th>\n",
       "      <th></th>\n",
       "      <th></th>\n",
       "      <th></th>\n",
       "      <th></th>\n",
       "      <th></th>\n",
       "      <th></th>\n",
       "    </tr>\n",
       "  </thead>\n",
       "  <tbody>\n",
       "    <tr>\n",
       "      <th>2013-06-02</th>\n",
       "      <td>5.0</td>\n",
       "      <td>0.0</td>\n",
       "      <td>10.4</td>\n",
       "      <td>1.0</td>\n",
       "      <td>15.7</td>\n",
       "      <td>1.0</td>\n",
       "      <td>2.40</td>\n",
       "    </tr>\n",
       "    <tr>\n",
       "      <th>2013-06-03</th>\n",
       "      <td>0.2</td>\n",
       "      <td>0.0</td>\n",
       "      <td>10.7</td>\n",
       "      <td>1.0</td>\n",
       "      <td>14.8</td>\n",
       "      <td>1.0</td>\n",
       "      <td>1.56</td>\n",
       "    </tr>\n",
       "  </tbody>\n",
       "</table>\n",
       "</div>"
      ],
      "text/plain": [
       "            rainfall amount (millimetres)  quality_rf  \\\n",
       "date                                                    \n",
       "2013-06-02                            5.0         0.0   \n",
       "2013-06-03                            0.2         0.0   \n",
       "\n",
       "            minimum temperature (degree c)  quality_mint  \\\n",
       "date                                                       \n",
       "2013-06-02                            10.4           1.0   \n",
       "2013-06-03                            10.7           1.0   \n",
       "\n",
       "            maximum temperature (degree c)  quality_maxt  \\\n",
       "date                                                       \n",
       "2013-06-02                            15.7           1.0   \n",
       "2013-06-03                            14.8           1.0   \n",
       "\n",
       "            daily global solar exposure (mj/m*m)  \n",
       "date                                              \n",
       "2013-06-02                                  2.40  \n",
       "2013-06-03                                  1.56  "
      ]
     },
     "execution_count": 29,
     "metadata": {},
     "output_type": "execute_result"
    }
   ],
   "source": [
    "weather = weather[weather.index > '20130601']\n",
    "weather.head(2)"
   ]
  },
  {
   "cell_type": "markdown",
   "metadata": {},
   "source": [
    "## Fill missing values with multivariate imputer (Experimental)\n",
    "We only have a couple of missing values, so it's worth a try."
   ]
  },
  {
   "cell_type": "code",
   "execution_count": 30,
   "metadata": {},
   "outputs": [
    {
     "name": "stdout",
     "output_type": "stream",
     "text": [
      "<class 'pandas.core.frame.DataFrame'>\n",
      "DatetimeIndex: 2686 entries, 2013-06-02 to 2020-10-08\n",
      "Data columns (total 7 columns):\n",
      " #   Column                                Non-Null Count  Dtype  \n",
      "---  ------                                --------------  -----  \n",
      " 0   rainfall amount (millimetres)         2686 non-null   float64\n",
      " 1   quality_rf                            2686 non-null   float64\n",
      " 2   minimum temperature (degree c)        2686 non-null   float64\n",
      " 3   quality_mint                          2686 non-null   float64\n",
      " 4   maximum temperature (degree c)        2686 non-null   float64\n",
      " 5   quality_maxt                          2686 non-null   float64\n",
      " 6   daily global solar exposure (mj/m*m)  2686 non-null   float64\n",
      "dtypes: float64(7)\n",
      "memory usage: 167.9 KB\n"
     ]
    }
   ],
   "source": [
    "from sklearn.experimental import enable_iterative_imputer\n",
    "from sklearn.impute import IterativeImputer\n",
    "imp = IterativeImputer(max_iter=10, random_state=0)\n",
    "imp.fit(weather)\n",
    "IterativeImputer(random_state=0)\n",
    "X_test = weather\n",
    "# the model learns that the second feature is double the first\n",
    "imp_weather = np.round(imp.transform(X_test))\n",
    "imp_weather = pd.DataFrame(imp_weather, columns=weather.columns, index=weather.index)\n",
    "imp_weather.info()"
   ]
  },
  {
   "cell_type": "markdown",
   "metadata": {},
   "source": [
    "Rename columns to something more useable and final. Note: uv_index to reflect new scale."
   ]
  },
  {
   "cell_type": "code",
   "execution_count": 31,
   "metadata": {},
   "outputs": [
    {
     "data": {
      "text/html": [
       "<div>\n",
       "<style scoped>\n",
       "    .dataframe tbody tr th:only-of-type {\n",
       "        vertical-align: middle;\n",
       "    }\n",
       "\n",
       "    .dataframe tbody tr th {\n",
       "        vertical-align: top;\n",
       "    }\n",
       "\n",
       "    .dataframe thead th {\n",
       "        text-align: right;\n",
       "    }\n",
       "</style>\n",
       "<table border=\"1\" class=\"dataframe\">\n",
       "  <thead>\n",
       "    <tr style=\"text-align: right;\">\n",
       "      <th></th>\n",
       "      <th>rainfall_mm</th>\n",
       "      <th>quality_rf</th>\n",
       "      <th>min_temp_c</th>\n",
       "      <th>quality_mint</th>\n",
       "      <th>max_temp_c</th>\n",
       "      <th>quality_maxt</th>\n",
       "      <th>uv_index</th>\n",
       "    </tr>\n",
       "    <tr>\n",
       "      <th>date</th>\n",
       "      <th></th>\n",
       "      <th></th>\n",
       "      <th></th>\n",
       "      <th></th>\n",
       "      <th></th>\n",
       "      <th></th>\n",
       "      <th></th>\n",
       "    </tr>\n",
       "  </thead>\n",
       "  <tbody>\n",
       "    <tr>\n",
       "      <th>2013-06-02</th>\n",
       "      <td>5.0</td>\n",
       "      <td>0.0</td>\n",
       "      <td>10.0</td>\n",
       "      <td>1.0</td>\n",
       "      <td>16.0</td>\n",
       "      <td>1.0</td>\n",
       "      <td>2.0</td>\n",
       "    </tr>\n",
       "    <tr>\n",
       "      <th>2013-06-03</th>\n",
       "      <td>0.0</td>\n",
       "      <td>0.0</td>\n",
       "      <td>11.0</td>\n",
       "      <td>1.0</td>\n",
       "      <td>15.0</td>\n",
       "      <td>1.0</td>\n",
       "      <td>2.0</td>\n",
       "    </tr>\n",
       "  </tbody>\n",
       "</table>\n",
       "</div>"
      ],
      "text/plain": [
       "            rainfall_mm  quality_rf  min_temp_c  quality_mint  max_temp_c  \\\n",
       "date                                                                        \n",
       "2013-06-02          5.0         0.0        10.0           1.0        16.0   \n",
       "2013-06-03          0.0         0.0        11.0           1.0        15.0   \n",
       "\n",
       "            quality_maxt  uv_index  \n",
       "date                                \n",
       "2013-06-02           1.0       2.0  \n",
       "2013-06-03           1.0       2.0  "
      ]
     },
     "execution_count": 31,
     "metadata": {},
     "output_type": "execute_result"
    }
   ],
   "source": [
    "imp_weather.columns = ['rainfall_mm', 'quality_rf', 'min_temp_c', 'quality_mint', 'max_temp_c', 'quality_maxt', 'uv_index']\n",
    "imp_weather.head(2)"
   ]
  },
  {
   "cell_type": "markdown",
   "metadata": {},
   "source": [
    "### Save File!"
   ]
  },
  {
   "cell_type": "code",
   "execution_count": 32,
   "metadata": {},
   "outputs": [],
   "source": [
    "imp_weather.to_csv('../data/weather.csv')"
   ]
  },
  {
   "cell_type": "markdown",
   "metadata": {},
   "source": [
    "## Fetch New Weather from API"
   ]
  },
  {
   "cell_type": "code",
   "execution_count": 33,
   "metadata": {},
   "outputs": [],
   "source": [
    "import requests"
   ]
  },
  {
   "cell_type": "code",
   "execution_count": 34,
   "metadata": {},
   "outputs": [
    {
     "name": "stdout",
     "output_type": "stream",
     "text": [
      "dict_keys(['data', 'metadata'])\n"
     ]
    }
   ],
   "source": [
    "url = 'https://api.weather.bom.gov.au/v1/locations/r1r143/forecasts/daily'\n",
    "response = requests.get(url)\n",
    "weather_dict = response.json() # format as json\n",
    "print(weather_dict.keys())"
   ]
  },
  {
   "cell_type": "code",
   "execution_count": 35,
   "metadata": {},
   "outputs": [],
   "source": [
    "tomorrow_max = weather_dict['data'][1]['temp_max']\n",
    "tomorrow_min = weather_dict['data'][1]['temp_min']\n",
    "rain = weather_dict['data'][1]['rain']['amount']['max']# - weather_dict['data'][0]['rain']['amount']['min']\n",
    "uv = weather_dict['data'][1]['uv']['max_index']\n",
    "q_rf = 1 # assuming quality data\n",
    "q_mint = 1 # assuming quality data\n",
    "q_maxt = 1 # assuming quality data"
   ]
  },
  {
   "cell_type": "markdown",
   "metadata": {},
   "source": [
    "## Forecast Max Temp with Random Forrest Regressor"
   ]
  },
  {
   "cell_type": "code",
   "execution_count": 36,
   "metadata": {},
   "outputs": [],
   "source": [
    "from sklearn.ensemble import RandomForestRegressor"
   ]
  },
  {
   "cell_type": "code",
   "execution_count": 37,
   "metadata": {},
   "outputs": [
    {
     "data": {
      "text/plain": [
       "RandomForestRegressor(max_depth=3, random_state=42)"
      ]
     },
     "execution_count": 37,
     "metadata": {},
     "output_type": "execute_result"
    }
   ],
   "source": [
    "y = imp_weather['max_temp_c']\n",
    "X = imp_weather.drop(['max_temp_c'], axis=1)\n",
    "\n",
    "regr = RandomForestRegressor(max_depth=3, random_state=42)\n",
    "regr.fit(X, y)"
   ]
  },
  {
   "cell_type": "code",
   "execution_count": 38,
   "metadata": {},
   "outputs": [
    {
     "name": "stdout",
     "output_type": "stream",
     "text": [
      "The temperature forecast by the BOM tomorrow is 25 and by our model is 25.342048505368158, with 0.61% accuracy\n"
     ]
    }
   ],
   "source": [
    "[predicted_mt] = regr.predict([[rain, q_rf, tomorrow_min, q_mint, q_maxt, uv]]) # sbracket both sides to remove from list.\n",
    "score = regr.score(X, y) # R^2 (coefficient of determination) regression score function.\n",
    "print(f'The temperature forecast by the BOM tomorrow is {tomorrow_max} and by our model is {predicted_mt}, with {score:.2f}% accuracy')"
   ]
  },
  {
   "cell_type": "markdown",
   "metadata": {},
   "source": [
    "# Head over to report.ipynb for the final result!"
   ]
  },
  {
   "cell_type": "code",
   "execution_count": 39,
   "metadata": {},
   "outputs": [],
   "source": [
    "# fin"
   ]
  }
 ],
 "metadata": {
  "kernelspec": {
   "display_name": "Python 3",
   "language": "python",
   "name": "python3"
  },
  "language_info": {
   "codemirror_mode": {
    "name": "ipython",
    "version": 3
   },
   "file_extension": ".py",
   "mimetype": "text/x-python",
   "name": "python",
   "nbconvert_exporter": "python",
   "pygments_lexer": "ipython3",
   "version": "3.8.5"
  }
 },
 "nbformat": 4,
 "nbformat_minor": 4
}
